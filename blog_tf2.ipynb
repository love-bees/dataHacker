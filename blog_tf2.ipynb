{
  "nbformat": 4,
  "nbformat_minor": 0,
  "metadata": {
    "colab": {
      "name": "blog_tf2.ipynb",
      "provenance": [],
      "authorship_tag": "ABX9TyP8w/DrKDL92G2Ke3hGK1vx",
      "include_colab_link": true
    },
    "kernelspec": {
      "name": "python3",
      "display_name": "Python 3"
    }
  },
  "cells": [
    {
      "cell_type": "markdown",
      "metadata": {
        "id": "view-in-github",
        "colab_type": "text"
      },
      "source": [
        "<a href=\"https://colab.research.google.com/github/love-bees/dataHacker/blob/master/blog_tf2.ipynb\" target=\"_parent\"><img src=\"https://colab.research.google.com/assets/colab-badge.svg\" alt=\"Open In Colab\"/></a>"
      ]
    },
    {
      "cell_type": "markdown",
      "metadata": {
        "id": "IP5GZc-9N6G5",
        "colab_type": "text"
      },
      "source": [
        "# Linear Regression with TensorFlow 2.1.0\n"
      ]
    },
    {
      "cell_type": "markdown",
      "metadata": {
        "id": "EK-NxJ02OqEf",
        "colab_type": "text"
      },
      "source": [
        "Description"
      ]
    },
    {
      "cell_type": "markdown",
      "metadata": {
        "id": "jkIzAWU6ONk8",
        "colab_type": "text"
      },
      "source": [
        "## The Math behind it"
      ]
    },
    {
      "cell_type": "markdown",
      "metadata": {
        "id": "vLcnVyjfObpU",
        "colab_type": "text"
      },
      "source": [
        "In order to get the linear regression equation, we need to know how to *mathematically* draw a line. We define a line in the slope-intercept form of a linear equation:"
      ]
    },
    {
      "cell_type": "markdown",
      "metadata": {
        "id": "DuvOooHxOnEs",
        "colab_type": "text"
      },
      "source": [
        "$\n",
        "y = kx+n\n",
        "$"
      ]
    },
    {
      "cell_type": "markdown",
      "metadata": {
        "id": "9GWFoI0hOvQ2",
        "colab_type": "text"
      },
      "source": [
        "Where $k$ represents the slope and $n$ represents the y-axis intercept.<br>\n",
        "From there, we will define our linear regression equation:"
      ]
    },
    {
      "cell_type": "markdown",
      "metadata": {
        "id": "gTXTpoDeOymQ",
        "colab_type": "text"
      },
      "source": [
        "$ y = wx+b$"
      ]
    },
    {
      "cell_type": "markdown",
      "metadata": {
        "id": "X6bfDxNZO7vF",
        "colab_type": "text"
      },
      "source": [
        "$\n",
        "\\hat y = wx + b \\longrightarrow h(x,w,b) = wx+b\n",
        "$"
      ]
    },
    {
      "cell_type": "markdown",
      "metadata": {
        "id": "zBeC6WeHO9Eg",
        "colab_type": "text"
      },
      "source": [
        "Where $\\hat y$ represents the linear regression equation (also denoted as $h(x,w,b)$ and in this case we will call it a hypothesis function). The function depends on 3 variables: data ($x$), weight($w$) and bias ($b$). We will modify the weight and bias in such a way that for any given data, the equation will give us an output ($\\hat y$) that we want.\n",
        "\n",
        "How is this practically achived? We will construct a graph that learns the gradient of the slope ($w$) and bias ($b$) through multiple iterations. Each iteration has the aim to close the gap between the hypothesis and the true output, making the linear predition more and more percise. We achive this by comparing the prediction to the true output and calculating the cost function. By minimizing the cost function (also called the loss function), we can improve the percision of our prediction.\n",
        "\n",
        "Let's try using the Mean Squared Error (MSE) for our loss function. MSE measures the average squared difference between the prediction and true output. The result is a single number representing the cost (or loss, score) associated with our current parameters. The goal is to minimize MSE to minimize the loss in order to get a good accuracy.\n",
        "\n",
        "Let's see how the MSE looks like in our case:"
      ]
    },
    {
      "cell_type": "markdown",
      "metadata": {
        "id": "qxwqX3LWPMMP",
        "colab_type": "text"
      },
      "source": [
        "$\n",
        "MSE = \\frac{1}{N} \\sum \\limits_{i=0}^{N} (y_i - \\hat y_i)^2 = \\frac{1}{N} \\sum \\limits_{i=0}^{N} (y_i - (wx_i+b))^2\n",
        "$"
      ]
    },
    {
      "cell_type": "markdown",
      "metadata": {
        "id": "xwD9EmofPTdv",
        "colab_type": "text"
      },
      "source": [
        "Where $y_i$ represents our true output, $\\hat y_i$ our predicted output or hypothesis and $N$ represents the number of samples. <br>\n",
        "We will also need the first derivative of the MSE function:"
      ]
    },
    {
      "cell_type": "markdown",
      "metadata": {
        "id": "I8XSsoPdPZS5",
        "colab_type": "text"
      },
      "source": [
        "$ MSE'(y,\\hat y) = \\frac{1}{N} \\sum\\limits_{i=0}^{N} 2(y_i - \\hat y_i)$"
      ]
    },
    {
      "cell_type": "markdown",
      "metadata": {
        "id": "jRKYId6KPc1N",
        "colab_type": "text"
      },
      "source": [
        "We will use gradient descent to update our parameters $w$ and $b$. This is the general formula:"
      ]
    },
    {
      "cell_type": "markdown",
      "metadata": {
        "id": "_2iHRhBhPgb7",
        "colab_type": "text"
      },
      "source": [
        "$\\theta = \\theta - \\alpha\\frac{\\partial MSE}{\\partial \\theta}$<br>"
      ]
    },
    {
      "cell_type": "markdown",
      "metadata": {
        "id": "NAT21YEcPknd",
        "colab_type": "text"
      },
      "source": [
        "Where $\\theta$ represents our parameters and MSE (Mean Squared Error) represents the loss function and alpha represents our learning rate or step size.\n",
        "\n",
        "We optimize both $w$ and $b$ by finding the partial derivatives with respect to the loss function:"
      ]
    },
    {
      "cell_type": "markdown",
      "metadata": {
        "id": "2XC8QDlHPny8",
        "colab_type": "text"
      },
      "source": [
        "$\n",
        "\\frac{\\partial MSE}{\\partial w} = \\frac{\\partial MSE}{\\partial \\hat y} \\frac{\\partial \\hat y}{\\partial w} = MSE'(y,\\hat y) * x\n",
        "$\n",
        "<br>\n",
        "$\n",
        "\\frac{\\partial MSE}{\\partial b} = \\frac{\\partial MSE}{\\partial \\hat y} \\frac{\\partial \\hat y}{\\partial b} = MSE'(y,\\hat y)\n",
        "$"
      ]
    },
    {
      "cell_type": "markdown",
      "metadata": {
        "id": "IKsnnra2PvSG",
        "colab_type": "text"
      },
      "source": [
        "## That was too much math! How do I code all this?\n",
        "\n"
      ]
    },
    {
      "cell_type": "markdown",
      "metadata": {
        "id": "dXmr8nFFPz4A",
        "colab_type": "text"
      },
      "source": [
        "Let's start out by trying to find a suitable dataset. We need a dataset which has at least two continuous parameters. In this example, I'll be using <a href=\"https://www.kaggle.com/mohansacharya/graduate-admissions\">Graduate Admissions data from Kaggle</a>. You should be able to access it by following the link and clicking on \"Download\".\n",
        "\n",
        "Now, let's import the data using pandas and preview the table:"
      ]
    },
    {
      "cell_type": "code",
      "metadata": {
        "id": "_xTVRsyAP5CQ",
        "colab_type": "code",
        "outputId": "af4bbca5-18b5-4bbc-e111-4ccd9a8aa10e",
        "colab": {
          "base_uri": "https://localhost:8080/",
          "height": 204
        }
      },
      "source": [
        "import pandas as pd\n",
        "data = pd.read_csv(\"Admission_Predict.csv\")\n",
        "data.head()"
      ],
      "execution_count": 1,
      "outputs": [
        {
          "output_type": "execute_result",
          "data": {
            "text/html": [
              "<div>\n",
              "<style scoped>\n",
              "    .dataframe tbody tr th:only-of-type {\n",
              "        vertical-align: middle;\n",
              "    }\n",
              "\n",
              "    .dataframe tbody tr th {\n",
              "        vertical-align: top;\n",
              "    }\n",
              "\n",
              "    .dataframe thead th {\n",
              "        text-align: right;\n",
              "    }\n",
              "</style>\n",
              "<table border=\"1\" class=\"dataframe\">\n",
              "  <thead>\n",
              "    <tr style=\"text-align: right;\">\n",
              "      <th></th>\n",
              "      <th>Serial No.</th>\n",
              "      <th>GRE Score</th>\n",
              "      <th>TOEFL Score</th>\n",
              "      <th>University Rating</th>\n",
              "      <th>SOP</th>\n",
              "      <th>LOR</th>\n",
              "      <th>CGPA</th>\n",
              "      <th>Research</th>\n",
              "      <th>Chance of Admit</th>\n",
              "    </tr>\n",
              "  </thead>\n",
              "  <tbody>\n",
              "    <tr>\n",
              "      <th>0</th>\n",
              "      <td>1</td>\n",
              "      <td>337</td>\n",
              "      <td>118</td>\n",
              "      <td>4</td>\n",
              "      <td>4.5</td>\n",
              "      <td>4.5</td>\n",
              "      <td>9.65</td>\n",
              "      <td>1</td>\n",
              "      <td>0.92</td>\n",
              "    </tr>\n",
              "    <tr>\n",
              "      <th>1</th>\n",
              "      <td>2</td>\n",
              "      <td>324</td>\n",
              "      <td>107</td>\n",
              "      <td>4</td>\n",
              "      <td>4.0</td>\n",
              "      <td>4.5</td>\n",
              "      <td>8.87</td>\n",
              "      <td>1</td>\n",
              "      <td>0.76</td>\n",
              "    </tr>\n",
              "    <tr>\n",
              "      <th>2</th>\n",
              "      <td>3</td>\n",
              "      <td>316</td>\n",
              "      <td>104</td>\n",
              "      <td>3</td>\n",
              "      <td>3.0</td>\n",
              "      <td>3.5</td>\n",
              "      <td>8.00</td>\n",
              "      <td>1</td>\n",
              "      <td>0.72</td>\n",
              "    </tr>\n",
              "    <tr>\n",
              "      <th>3</th>\n",
              "      <td>4</td>\n",
              "      <td>322</td>\n",
              "      <td>110</td>\n",
              "      <td>3</td>\n",
              "      <td>3.5</td>\n",
              "      <td>2.5</td>\n",
              "      <td>8.67</td>\n",
              "      <td>1</td>\n",
              "      <td>0.80</td>\n",
              "    </tr>\n",
              "    <tr>\n",
              "      <th>4</th>\n",
              "      <td>5</td>\n",
              "      <td>314</td>\n",
              "      <td>103</td>\n",
              "      <td>2</td>\n",
              "      <td>2.0</td>\n",
              "      <td>3.0</td>\n",
              "      <td>8.21</td>\n",
              "      <td>0</td>\n",
              "      <td>0.65</td>\n",
              "    </tr>\n",
              "  </tbody>\n",
              "</table>\n",
              "</div>"
            ],
            "text/plain": [
              "   Serial No.  GRE Score  TOEFL Score  ...  CGPA  Research  Chance of Admit \n",
              "0           1        337          118  ...  9.65         1              0.92\n",
              "1           2        324          107  ...  8.87         1              0.76\n",
              "2           3        316          104  ...  8.00         1              0.72\n",
              "3           4        322          110  ...  8.67         1              0.80\n",
              "4           5        314          103  ...  8.21         0              0.65\n",
              "\n",
              "[5 rows x 9 columns]"
            ]
          },
          "metadata": {
            "tags": []
          },
          "execution_count": 1
        }
      ]
    },
    {
      "cell_type": "markdown",
      "metadata": {
        "id": "sMGPo6LZQA5U",
        "colab_type": "text"
      },
      "source": [
        "From there, we can see that there's 7 continuous parameters (GRE Score, TOEFL Score, University Rating, SOP, LOR, CGPA and Chance of Admit) and one binary (Research). Let's filter out the data we need, normalize it and plot it using matplotlib. I want the GRE score to be a feature (or input) for my model and the Chance of Admit to be the label (or the output)."
      ]
    },
    {
      "cell_type": "code",
      "metadata": {
        "id": "JmqYv34JRWtl",
        "colab_type": "code",
        "outputId": "f7a789ab-d444-4917-ca43-ffd20d061460",
        "colab": {
          "base_uri": "https://localhost:8080/",
          "height": 295
        }
      },
      "source": [
        "#picking two continuous variables and normalizing them\n",
        "\n",
        "X = data[['GRE Score']].values/100\n",
        "Y = data[['Chance of Admit ']].values\n",
        "\n",
        "#displaying the data\n",
        "\n",
        "import matplotlib.pyplot as plt\n",
        "\n",
        "plt.scatter(X,Y)\n",
        "plt.xlabel('GRE Score');\n",
        "plt.ylabel('Chance of Admit');\n",
        "plt.title('Chance of Admit based on GRE Score');"
      ],
      "execution_count": 2,
      "outputs": [
        {
          "output_type": "display_data",
          "data": {
            "image/png": "[encoded data removed]",
            "text/plain": [
              "<Figure size 432x288 with 1 Axes>"
            ]
          },
          "metadata": {
            "tags": []
          }
        }
      ]
    },
    {
      "cell_type": "markdown",
      "metadata": {
        "id": "0KXWaQdqRcKV",
        "colab_type": "text"
      },
      "source": [
        "It's obvious from the plot that there's some sort of linear trend. The higher the GRE score, the higher the chance of admittance to a university. Let's prep this data for the model. I'll be using the train_test_split function to quickly separate the data into two groups: one of training the model and one for testing the model's accuracy. <br>\n",
        "Once we separate the two for features and labels each, we can store them in constant tensors."
      ]
    },
    {
      "cell_type": "code",
      "metadata": {
        "id": "CdYz6roVRhvB",
        "colab_type": "code",
        "colab": {}
      },
      "source": [
        "#splitting the features and labels into train and test data\n",
        "#!pip install tf-nightly-2.0-preview\n",
        "import tensorflow as tf\n",
        "from sklearn.model_selection import train_test_split\n",
        "\n",
        "train_features , test_features ,train_labels, test_labels = train_test_split(X, Y, test_size = 0.2)\n",
        "\n",
        "train_X = tf.constant( train_features , dtype=tf.float32 )\n",
        "train_Y = tf.constant( train_labels , dtype=tf.float32 )\n",
        "\n",
        "test_X = tf.constant( test_features , dtype=tf.float32 )\n",
        "test_Y = tf.constant( test_labels , dtype=tf.float32 )"
      ],
      "execution_count": 0,
      "outputs": []
    },
    {
      "cell_type": "markdown",
      "metadata": {
        "id": "Y8gyDt36RvkL",
        "colab_type": "text"
      },
      "source": [
        "In case you're wondering, yes this is TensorFlow 2.0:"
      ]
    },
    {
      "cell_type": "code",
      "metadata": {
        "id": "hjFDMyZ3R4B2",
        "colab_type": "code",
        "outputId": "94eeb672-d45c-4111-d69a-5d4e2140bcc1",
        "colab": {
          "base_uri": "https://localhost:8080/",
          "height": 34
        }
      },
      "source": [
        "tf.__version__"
      ],
      "execution_count": 4,
      "outputs": [
        {
          "output_type": "execute_result",
          "data": {
            "text/plain": [
              "'2.0.0-dev20191002'"
            ]
          },
          "metadata": {
            "tags": []
          },
          "execution_count": 4
        }
      ]
    },
    {
      "cell_type": "markdown",
      "metadata": {
        "id": "CaoJhczxR5-i",
        "colab_type": "text"
      },
      "source": [
        "The next step is to define the methods we described in the math part of the post. We'll be using:\n",
        "<ol>\n",
        "    <li>Mean Squared Error</li>\n",
        "    <li>Mean Squared Error derivative</li>\n",
        "    <li>Linear Regression function or the Hypothesis function</li>\n",
        "</ol>"
      ]
    },
    {
      "cell_type": "code",
      "metadata": {
        "id": "hth99E-XTP33",
        "colab_type": "code",
        "colab": {}
      },
      "source": [
        "#defining the mean square error, its' derivative and the hypothesis function\n",
        "\n",
        "def MSE(Y,y_pred):\n",
        "    return tf.reduce_mean(tf.square(y_pred-Y))\n",
        "\n",
        "def MSE_derivative(Y,y_pred):\n",
        "    return tf.reshape(tf.reduce_mean(2*(y_pred - Y)), [1, 1])\n",
        "\n",
        "def h(X,weights,bias):\n",
        "    return tf.tensordot(X, weights, axes=1)+bias"
      ],
      "execution_count": 0,
      "outputs": []
    },
    {
      "cell_type": "code",
      "metadata": {
        "id": "9f5nkWWVTe3L",
        "colab_type": "code",
        "colab": {}
      },
      "source": [
        "#generating data for learning and shuffling the dataset\n",
        "num_epochs = 100\n",
        "num_samples = train_X.shape[0]\n",
        "batch_size = 10\n",
        "learning_rate = 0.001\n",
        "\n",
        "dataset = tf.data.Dataset.from_tensor_slices((train_X , train_Y))\n",
        "dataset = dataset.shuffle( 500 ).repeat( num_epochs ).batch( batch_size )\n",
        "iterator = dataset.__iter__()"
      ],
      "execution_count": 0,
      "outputs": []
    },
    {
      "cell_type": "code",
      "metadata": {
        "id": "uXwlkttOThXQ",
        "colab_type": "code",
        "outputId": "14898ff9-3edf-4a66-ed8b-cc130ba66a66",
        "colab": {
          "base_uri": "https://localhost:8080/",
          "height": 1000
        }
      },
      "source": [
        "import numpy as np\n",
        "\n",
        "#generating number of features, a random weight and setting the starting bias to 0\n",
        "num_features = train_X.shape[1]\n",
        "weights = tf.random.normal((num_features, 1))\n",
        "bias = tf.random.normal((num_features, 1))\n",
        "\n",
        "#will be used for plotting after\n",
        "epochs_plot = list()\n",
        "loss_plot = list()\n",
        "\n",
        "for i in range(num_epochs) :\n",
        "\n",
        "    epoch_loss = list()\n",
        "    for j in range(int(num_samples/batch_size)):\n",
        "\n",
        "        x_batch , y_batch = iterator.get_next()\n",
        "\n",
        "        output = h(x_batch, weights, bias)\n",
        "        loss = epoch_loss.append( MSE( y_batch , output ).numpy() )\n",
        "\n",
        "        dJ_dH = MSE_derivative(y_batch, output)\n",
        "        dH_dW = x_batch\n",
        "        dJ_dW = tf.reduce_mean( dJ_dH * dH_dW )\n",
        "        dJ_dB = tf.reduce_mean( dJ_dH )\n",
        "\n",
        "        weights -= (learning_rate * dJ_dW)\n",
        "        bias -= (learning_rate * dJ_dB)\n",
        "    loss = np.array(epoch_loss).mean()\n",
        "    epochs_plot.append(i + 1)\n",
        "    loss_plot.append(loss)\n",
        "\n",
        "    print('Loss is', loss )"
      ],
      "execution_count": 7,
      "outputs": [
        {
          "output_type": "stream",
          "text": [
            "Loss is 1.9687338\n",
            "Loss is 0.4826658\n",
            "Loss is 0.12576643\n",
            "Loss is 0.040431034\n",
            "Loss is 0.01975663\n",
            "Loss is 0.014624143\n",
            "Loss is 0.0133704115\n",
            "Loss is 0.013052887\n",
            "Loss is 0.012964413\n",
            "Loss is 0.012965295\n",
            "Loss is 0.012937239\n",
            "Loss is 0.0129486695\n",
            "Loss is 0.012933442\n",
            "Loss is 0.012938274\n",
            "Loss is 0.012935128\n",
            "Loss is 0.01293119\n",
            "Loss is 0.012930049\n",
            "Loss is 0.012940273\n",
            "Loss is 0.012924589\n",
            "Loss is 0.012912801\n",
            "Loss is 0.012937583\n",
            "Loss is 0.012941607\n",
            "Loss is 0.012932436\n",
            "Loss is 0.012930375\n",
            "Loss is 0.012934265\n",
            "Loss is 0.012935306\n",
            "Loss is 0.012936151\n",
            "Loss is 0.012938518\n",
            "Loss is 0.012915851\n",
            "Loss is 0.012941016\n",
            "Loss is 0.012932768\n",
            "Loss is 0.01292835\n",
            "Loss is 0.012916137\n",
            "Loss is 0.01295043\n",
            "Loss is 0.012928052\n",
            "Loss is 0.012930131\n",
            "Loss is 0.01293158\n",
            "Loss is 0.012937\n",
            "Loss is 0.0129412\n",
            "Loss is 0.01292423\n",
            "Loss is 0.012938369\n",
            "Loss is 0.012935502\n",
            "Loss is 0.012926865\n",
            "Loss is 0.012939313\n",
            "Loss is 0.012928762\n",
            "Loss is 0.012942469\n",
            "Loss is 0.012932789\n",
            "Loss is 0.012938312\n",
            "Loss is 0.012923405\n",
            "Loss is 0.012910288\n",
            "Loss is 0.012934699\n",
            "Loss is 0.01294424\n",
            "Loss is 0.012935243\n",
            "Loss is 0.012925502\n",
            "Loss is 0.012940382\n",
            "Loss is 0.012935504\n",
            "Loss is 0.0129411\n",
            "Loss is 0.012931077\n",
            "Loss is 0.012926405\n",
            "Loss is 0.012939639\n",
            "Loss is 0.012934916\n",
            "Loss is 0.012926095\n",
            "Loss is 0.012941502\n",
            "Loss is 0.012925207\n",
            "Loss is 0.012919586\n",
            "Loss is 0.012934409\n",
            "Loss is 0.012925626\n",
            "Loss is 0.012934176\n",
            "Loss is 0.012932006\n",
            "Loss is 0.012914982\n",
            "Loss is 0.012929551\n",
            "Loss is 0.012941487\n",
            "Loss is 0.0129641285\n",
            "Loss is 0.01292359\n",
            "Loss is 0.012926439\n",
            "Loss is 0.012928723\n",
            "Loss is 0.012927426\n",
            "Loss is 0.01293978\n",
            "Loss is 0.01292696\n",
            "Loss is 0.012935105\n",
            "Loss is 0.01291157\n",
            "Loss is 0.012933219\n",
            "Loss is 0.012929494\n",
            "Loss is 0.012923406\n",
            "Loss is 0.01290306\n",
            "Loss is 0.012937484\n",
            "Loss is 0.012924658\n",
            "Loss is 0.012940329\n",
            "Loss is 0.012921818\n",
            "Loss is 0.012943428\n",
            "Loss is 0.012933326\n",
            "Loss is 0.012940522\n",
            "Loss is 0.012921883\n",
            "Loss is 0.012913214\n",
            "Loss is 0.01293573\n",
            "Loss is 0.012935821\n",
            "Loss is 0.0129294805\n",
            "Loss is 0.0129263485\n",
            "Loss is 0.012935545\n",
            "Loss is 0.012919593\n"
          ],
          "name": "stdout"
        }
      ]
    },
    {
      "cell_type": "code",
      "metadata": {
        "id": "VGAXlSqTTjkz",
        "colab_type": "code",
        "outputId": "3fceb8ee-e191-434a-8f04-a9048d6725f7",
        "colab": {
          "base_uri": "https://localhost:8080/",
          "height": 295
        }
      },
      "source": [
        "plt.plot(epochs_plot, loss_plot, color='C9')\n",
        "plt.title('Loss over epochs');\n",
        "plt.xlabel('Epochs');\n",
        "plt.ylabel('Loss');"
      ],
      "execution_count": 8,
      "outputs": [
        {
          "output_type": "display_data",
          "data": {
            "image/png": "[encoded data removed]",
            "text/plain": [
              "<Figure size 432x288 with 1 Axes>"
            ]
          },
          "metadata": {
            "tags": []
          }
        }
      ]
    },
    {
      "cell_type": "code",
      "metadata": {
        "id": "hwNFHJyzTmAH",
        "colab_type": "code",
        "outputId": "2e7a6a09-5d6a-412c-f598-70ac8b162e73",
        "colab": {
          "base_uri": "https://localhost:8080/",
          "height": 34
        }
      },
      "source": [
        "output = h(test_X , weights , bias )\n",
        "labels = test_Y\n",
        "\n",
        "accuracy_op = tf.metrics.MeanAbsoluteError()\n",
        "accuracy_op.update_state( labels , output )\n",
        "print( 'Mean Absolute Error = {}'.format( accuracy_op.result().numpy() ) )"
      ],
      "execution_count": 9,
      "outputs": [
        {
          "output_type": "stream",
          "text": [
            "Mean Absolute Error = 0.08509044349193573\n"
          ],
          "name": "stdout"
        }
      ]
    },
    {
      "cell_type": "code",
      "metadata": {
        "id": "XpA5lRZEToeq",
        "colab_type": "code",
        "outputId": "5cfc03ec-0f05-4cbb-a44a-cd489243875b",
        "colab": {
          "base_uri": "https://localhost:8080/",
          "height": 282
        }
      },
      "source": [
        "plt.scatter(train_X,train_Y, color='C9')\n",
        "plt.plot(test_X, output, color='C3')"
      ],
      "execution_count": 10,
      "outputs": [
        {
          "output_type": "execute_result",
          "data": {
            "text/plain": [
              "[<matplotlib.lines.Line2D at 0x7fc71c2dc438>]"
            ]
          },
          "metadata": {
            "tags": []
          },
          "execution_count": 10
        },
        {
          "output_type": "display_data",
          "data": {
            "image/png": "[encoded data removed]",
            "text/plain": [
              "<Figure size 432x288 with 1 Axes>"
            ]
          },
          "metadata": {
            "tags": []
          }
        }
      ]
    },
    {
      "cell_type": "code",
      "metadata": {
        "id": "KbriCx0zujAE",
        "colab_type": "code",
        "colab": {}
      },
      "source": [
        ""
      ],
      "execution_count": 0,
      "outputs": []
    }
  ]
}