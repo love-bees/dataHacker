{
  "nbformat": 4,
  "nbformat_minor": 0,
  "metadata": {
    "colab": {
      "name": "diplomski_napredak",
      "provenance": [],
      "collapsed_sections": [],
      "authorship_tag": "ABX9TyM1/zmcXqujoydImiQH60WA",
      "include_colab_link": true
    },
    "kernelspec": {
      "name": "python3",
      "display_name": "Python 3"
    }
  },
  "cells": [
    {
      "cell_type": "markdown",
      "metadata": {
        "id": "view-in-github",
        "colab_type": "text"
      },
      "source": [
        "<a href=\"https://colab.research.google.com/github/love-bees/dataHacker/blob/master/diplomski_napredak.ipynb\" target=\"_parent\"><img src=\"https://colab.research.google.com/assets/colab-badge.svg\" alt=\"Open In Colab\"/></a>"
      ]
    },
    {
      "cell_type": "code",
      "metadata": {
        "id": "wcZp6-_0aAy1",
        "colab_type": "code",
        "colab": {}
      },
      "source": [
        "import tweepy\n",
        "import pandas as pd\n",
        "import csv\n",
        "import gmplot"
      ],
      "execution_count": 0,
      "outputs": []
    },
    {
      "cell_type": "code",
      "metadata": {
        "id": "kmA-9_f-aCgL",
        "colab_type": "code",
        "colab": {}
      },
      "source": [
        "consumer_key = 'get'\n",
        "consumer_secret = 'your'\n",
        "access_token = 'own'\n",
        "access_token_secret = 'tokens'"
      ],
      "execution_count": 0,
      "outputs": []
    },
    {
      "cell_type": "code",
      "metadata": {
        "id": "g6PCCVo9i_nO",
        "colab_type": "code",
        "colab": {}
      },
      "source": [
        "auth = tweepy.OAuthHandler(consumer_key, consumer_secret)"
      ],
      "execution_count": 0,
      "outputs": []
    },
    {
      "cell_type": "code",
      "metadata": {
        "id": "En3AyjjLM20P",
        "colab_type": "code",
        "colab": {}
      },
      "source": [
        "auth.set_access_token(access_token,access_token_secret)"
      ],
      "execution_count": 0,
      "outputs": []
    },
    {
      "cell_type": "code",
      "metadata": {
        "id": "cxVFLfmPM7yZ",
        "colab_type": "code",
        "colab": {}
      },
      "source": [
        "api = tweepy.API(auth, wait_on_rate_limit=True)"
      ],
      "execution_count": 0,
      "outputs": []
    },
    {
      "cell_type": "code",
      "metadata": {
        "id": "9aokcQdgNFSP",
        "colab_type": "code",
        "colab": {}
      },
      "source": [
        "csvFile = open('data_world_geo.csv', 'a')"
      ],
      "execution_count": 0,
      "outputs": []
    },
    {
      "cell_type": "code",
      "metadata": {
        "id": "fD2efjDWNKi4",
        "colab_type": "code",
        "colab": {}
      },
      "source": [
        "csvWriter = csv.writer(csvFile)"
      ],
      "execution_count": 0,
      "outputs": []
    },
    {
      "cell_type": "code",
      "metadata": {
        "id": "Wbt4LfWLNO2o",
        "colab_type": "code",
        "colab": {}
      },
      "source": [
        "for tweet in tweepy.Cursor(api.search,q=['#corona', '#covid19'], count=100, \n",
        "                            since='2020-03-28').items():\n",
        "    if tweet.geo:\n",
        "        csvWriter.writerow([tweet.created_at, tweet.geo, tweet.text.encode('utf-8')])"
      ],
      "execution_count": 0,
      "outputs": []
    },
    {
      "cell_type": "code",
      "metadata": {
        "id": "mMGd1AMuTsDP",
        "colab_type": "code",
        "colab": {}
      },
      "source": [
        "data = pd.read_csv('data_world_geo.csv')"
      ],
      "execution_count": 0,
      "outputs": []
    },
    {
      "cell_type": "code",
      "metadata": {
        "id": "0vS9FV6MgPzU",
        "colab_type": "code",
        "colab": {}
      },
      "source": [
        "data.columns\n",
        "data.columns=['time','loc','text']"
      ],
      "execution_count": 0,
      "outputs": []
    },
    {
      "cell_type": "code",
      "metadata": {
        "id": "dtJsrYQoT0xo",
        "colab_type": "code",
        "colab": {}
      },
      "source": [
        "data = data.dropna()"
      ],
      "execution_count": 0,
      "outputs": []
    },
    {
      "cell_type": "code",
      "metadata": {
        "id": "RBHmQchWl1bb",
        "colab_type": "code",
        "colab": {}
      },
      "source": [
        "coordinates = []\n",
        "for i, dat in enumerate(data['loc'].values):\n",
        "    data['loc'][i] = eval(dat)\n",
        "    coordinates.append(data['loc'][i]['coordinates'])"
      ],
      "execution_count": 0,
      "outputs": []
    },
    {
      "cell_type": "code",
      "metadata": {
        "id": "BZETMkAqkCST",
        "colab_type": "code",
        "colab": {}
      },
      "source": [
        "latitudes = []\n",
        "longitudes = []\n",
        "for pair in coordinates:\n",
        "    latitudes.append(pair[0])\n",
        "    longitudes.append(pair[1])"
      ],
      "execution_count": 0,
      "outputs": []
    },
    {
      "cell_type": "code",
      "metadata": {
        "id": "druU1SSepYkZ",
        "colab_type": "code",
        "colab": {}
      },
      "source": [
        "pip install gmplot"
      ],
      "execution_count": 0,
      "outputs": []
    },
    {
      "cell_type": "code",
      "metadata": {
        "id": "RgdsY9KUViWh",
        "colab_type": "code",
        "colab": {}
      },
      "source": [
        "# Let's limit the dataset to the first 15,000 records for this example\n",
        "#data = raw_data.head(n=15000)\n",
        "\n",
        "# Store our latitude and longitude\n",
        "#latitudes = data[\"LAT\"]\n",
        "#longitudes = data[\"LON\"]\n",
        "\n",
        "# Creating the location we would like to initialize the focus on. \n",
        "# Parameters: Lattitude, Longitude, Zoom\n",
        "gmap = gmplot.GoogleMapPlotter(34.0522, -118.2437, 1)\n",
        "\n",
        "# Overlay our datapoints onto the map\n",
        "gmap.heatmap(latitudes, longitudes)\n",
        "\n",
        "# Generate the heatmap into an HTML file\n",
        "gmap.draw(\"my_heatmap.html\")"
      ],
      "execution_count": 0,
      "outputs": []
    },
    {
      "cell_type": "code",
      "metadata": {
        "id": "Jt1-ibzRpe9G",
        "colab_type": "code",
        "colab": {}
      },
      "source": [
        "len(coordinates)"
      ],
      "execution_count": 0,
      "outputs": []
    },
    {
      "cell_type": "code",
      "metadata": {
        "id": "FbC0_ZptHOHR",
        "colab_type": "code",
        "colab": {}
      },
      "source": [
        "coordinates"
      ],
      "execution_count": 0,
      "outputs": []
    },
    {
      "cell_type": "code",
      "metadata": {
        "id": "We5XPuAZI3rx",
        "colab_type": "code",
        "colab": {}
      },
      "source": [
        ""
      ],
      "execution_count": 0,
      "outputs": []
    }
  ]
}