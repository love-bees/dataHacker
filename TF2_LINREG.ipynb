{
  "nbformat": 4,
  "nbformat_minor": 0,
  "metadata": {
    "colab": {
      "name": "TF2_LINREG.ipynb",
      "provenance": [],
      "collapsed_sections": [],
      "authorship_tag": "ABX9TyP8w/DrKDL92G2Ke3hGK1vx",
      "include_colab_link": true
    },
    "kernelspec": {
      "name": "python3",
      "display_name": "Python 3"
    }
  },
  "cells": [
    {
      "cell_type": "markdown",
      "metadata": {
        "id": "view-in-github",
        "colab_type": "text"
      },
      "source": [
        "<a href=\"https://colab.research.google.com/github/love-bees/dataHacker/blob/master/TF2_LINREG.ipynb\" target=\"_parent\"><img src=\"https://colab.research.google.com/assets/colab-badge.svg\" alt=\"Open In Colab\"/></a>"
      ]
    },
    {
      "cell_type": "markdown",
      "metadata": {
        "id": "IP5GZc-9N6G5",
        "colab_type": "text"
      },
      "source": [
        "# Linear Regression with TensorFlow 2.1.0\n"
      ]
    },
    {
      "cell_type": "markdown",
      "metadata": {
        "id": "EK-NxJ02OqEf",
        "colab_type": "text"
      },
      "source": [
        "Description"
      ]
    },
    {
      "cell_type": "markdown",
      "metadata": {
        "id": "jkIzAWU6ONk8",
        "colab_type": "text"
      },
      "source": [
        "## The Math behind it"
      ]
    },
    {
      "cell_type": "markdown",
      "metadata": {
        "id": "vLcnVyjfObpU",
        "colab_type": "text"
      },
      "source": [
        "In order to get the linear regression equation, we need to know how to *mathematically* draw a line. We define a line in the slope-intercept form of a linear equation:"
      ]
    },
    {
      "cell_type": "markdown",
      "metadata": {
        "id": "DuvOooHxOnEs",
        "colab_type": "text"
      },
      "source": [
        "$\n",
        "y = kx+n\n",
        "$"
      ]
    },
    {
      "cell_type": "markdown",
      "metadata": {
        "id": "9GWFoI0hOvQ2",
        "colab_type": "text"
      },
      "source": [
        "Where $k$ represents the slope and $n$ represents the y-axis intercept.<br>\n",
        "From there, we will define our linear regression equation:"
      ]
    },
    {
      "cell_type": "markdown",
      "metadata": {
        "id": "gTXTpoDeOymQ",
        "colab_type": "text"
      },
      "source": [
        "$ y = wx+b$"
      ]
    },
    {
      "cell_type": "markdown",
      "metadata": {
        "id": "X6bfDxNZO7vF",
        "colab_type": "text"
      },
      "source": [
        "$\n",
        "\\hat y = wx + b \\longrightarrow h(x,w,b) = wx+b\n",
        "$"
      ]
    },
    {
      "cell_type": "markdown",
      "metadata": {
        "id": "zBeC6WeHO9Eg",
        "colab_type": "text"
      },
      "source": [
        "Where $\\hat y$ represents the linear regression equation (also denoted as $h(x,w,b)$ and in this case we will call it a hypothesis function). The function depends on 3 variables: data ($x$), weight($w$) and bias ($b$). We will modify the weight and bias in such a way that for any given data, the equation will give us an output ($\\hat y$) that we want.\n",
        "\n",
        "How is this practically achived? We will construct a graph that learns the gradient of the slope ($w$) and bias ($b$) through multiple iterations. Each iteration has the aim to close the gap between the hypothesis and the true output, making the linear predition more and more percise. We achive this by comparing the prediction to the true output and calculating the cost function. By minimizing the cost function (also called the loss function), we can improve the percision of our prediction.\n",
        "\n",
        "Let's try using the Mean Squared Error (MSE) for our loss function. MSE measures the average squared difference between the prediction and true output. The result is a single number representing the cost (or loss, score) associated with our current parameters. The goal is to minimize MSE to minimize the loss in order to get a good accuracy.\n",
        "\n",
        "Let's see how the MSE looks like in our case:"
      ]
    },
    {
      "cell_type": "markdown",
      "metadata": {
        "id": "qxwqX3LWPMMP",
        "colab_type": "text"
      },
      "source": [
        "$\n",
        "MSE = \\frac{1}{N} \\sum \\limits_{i=0}^{N} (y_i - \\hat y_i)^2 = \\frac{1}{N} \\sum \\limits_{i=0}^{N} (y_i - (wx_i+b))^2\n",
        "$"
      ]
    },
    {
      "cell_type": "markdown",
      "metadata": {
        "id": "xwD9EmofPTdv",
        "colab_type": "text"
      },
      "source": [
        "Where $y_i$ represents our true output, $\\hat y_i$ our predicted output or hypothesis and $N$ represents the number of samples. <br>\n",
        "We will also need the first derivative of the MSE function:"
      ]
    },
    {
      "cell_type": "markdown",
      "metadata": {
        "id": "I8XSsoPdPZS5",
        "colab_type": "text"
      },
      "source": [
        "$ MSE'(y,\\hat y) = \\frac{1}{N} \\sum\\limits_{i=0}^{N} 2(y_i - \\hat y_i)$"
      ]
    },
    {
      "cell_type": "markdown",
      "metadata": {
        "id": "jRKYId6KPc1N",
        "colab_type": "text"
      },
      "source": [
        "We will use gradient descent to update our parameters $w$ and $b$. This is the general formula:"
      ]
    },
    {
      "cell_type": "markdown",
      "metadata": {
        "id": "_2iHRhBhPgb7",
        "colab_type": "text"
      },
      "source": [
        "$\\theta = \\theta - \\alpha\\frac{\\partial MSE}{\\partial \\theta}$<br>"
      ]
    },
    {
      "cell_type": "markdown",
      "metadata": {
        "id": "NAT21YEcPknd",
        "colab_type": "text"
      },
      "source": [
        "Where $\\theta$ represents our parameters and MSE (Mean Squared Error) represents the loss function and alpha represents our learning rate or step size.\n",
        "\n",
        "We optimize both $w$ and $b$ by finding the partial derivatives with respect to the loss function:"
      ]
    },
    {
      "cell_type": "markdown",
      "metadata": {
        "id": "2XC8QDlHPny8",
        "colab_type": "text"
      },
      "source": [
        "$\n",
        "\\frac{\\partial MSE}{\\partial w} = \\frac{\\partial MSE}{\\partial \\hat y} \\frac{\\partial \\hat y}{\\partial w} = MSE'(y,\\hat y) * x\n",
        "$\n",
        "<br>\n",
        "$\n",
        "\\frac{\\partial MSE}{\\partial b} = \\frac{\\partial MSE}{\\partial \\hat y} \\frac{\\partial \\hat y}{\\partial b} = MSE'(y,\\hat y)\n",
        "$"
      ]
    },
    {
      "cell_type": "markdown",
      "metadata": {
        "id": "IKsnnra2PvSG",
        "colab_type": "text"
      },
      "source": [
        "## That was too much math! How do I code all this?\n",
        "\n"
      ]
    },
    {
      "cell_type": "markdown",
      "metadata": {
        "id": "dXmr8nFFPz4A",
        "colab_type": "text"
      },
      "source": [
        "Let's start out by trying to find a suitable dataset. We need a dataset which has at least two continuous parameters. In this example, I'll be using <a href=\"https://www.kaggle.com/mohansacharya/graduate-admissions\">Graduate Admissions data from Kaggle</a>. You should be able to access it by following the link and clicking on \"Download\".\n",
        "\n",
        "Now, let's import the data using pandas and preview the table:"
      ]
    },
    {
      "cell_type": "code",
      "metadata": {
        "id": "_xTVRsyAP5CQ",
        "colab_type": "code",
        "outputId": "0ef05ba5-5b28-4018-f65f-e737e70f972d",
        "colab": {
          "base_uri": "https://localhost:8080/",
          "height": 206
        }
      },
      "source": [
        "import pandas as pd\n",
        "data = pd.read_csv(\"Admission_Predict.csv\")\n",
        "data.head()"
      ],
      "execution_count": 0,
      "outputs": [
        {
          "output_type": "execute_result",
          "data": {
            "text/html": [
              "<div>\n",
              "<style scoped>\n",
              "    .dataframe tbody tr th:only-of-type {\n",
              "        vertical-align: middle;\n",
              "    }\n",
              "\n",
              "    .dataframe tbody tr th {\n",
              "        vertical-align: top;\n",
              "    }\n",
              "\n",
              "    .dataframe thead th {\n",
              "        text-align: right;\n",
              "    }\n",
              "</style>\n",
              "<table border=\"1\" class=\"dataframe\">\n",
              "  <thead>\n",
              "    <tr style=\"text-align: right;\">\n",
              "      <th></th>\n",
              "      <th>Serial No.</th>\n",
              "      <th>GRE Score</th>\n",
              "      <th>TOEFL Score</th>\n",
              "      <th>University Rating</th>\n",
              "      <th>SOP</th>\n",
              "      <th>LOR</th>\n",
              "      <th>CGPA</th>\n",
              "      <th>Research</th>\n",
              "      <th>Chance of Admit</th>\n",
              "    </tr>\n",
              "  </thead>\n",
              "  <tbody>\n",
              "    <tr>\n",
              "      <th>0</th>\n",
              "      <td>1</td>\n",
              "      <td>337</td>\n",
              "      <td>118</td>\n",
              "      <td>4</td>\n",
              "      <td>4.5</td>\n",
              "      <td>4.5</td>\n",
              "      <td>9.65</td>\n",
              "      <td>1</td>\n",
              "      <td>0.92</td>\n",
              "    </tr>\n",
              "    <tr>\n",
              "      <th>1</th>\n",
              "      <td>2</td>\n",
              "      <td>324</td>\n",
              "      <td>107</td>\n",
              "      <td>4</td>\n",
              "      <td>4.0</td>\n",
              "      <td>4.5</td>\n",
              "      <td>8.87</td>\n",
              "      <td>1</td>\n",
              "      <td>0.76</td>\n",
              "    </tr>\n",
              "    <tr>\n",
              "      <th>2</th>\n",
              "      <td>3</td>\n",
              "      <td>316</td>\n",
              "      <td>104</td>\n",
              "      <td>3</td>\n",
              "      <td>3.0</td>\n",
              "      <td>3.5</td>\n",
              "      <td>8.00</td>\n",
              "      <td>1</td>\n",
              "      <td>0.72</td>\n",
              "    </tr>\n",
              "    <tr>\n",
              "      <th>3</th>\n",
              "      <td>4</td>\n",
              "      <td>322</td>\n",
              "      <td>110</td>\n",
              "      <td>3</td>\n",
              "      <td>3.5</td>\n",
              "      <td>2.5</td>\n",
              "      <td>8.67</td>\n",
              "      <td>1</td>\n",
              "      <td>0.80</td>\n",
              "    </tr>\n",
              "    <tr>\n",
              "      <th>4</th>\n",
              "      <td>5</td>\n",
              "      <td>314</td>\n",
              "      <td>103</td>\n",
              "      <td>2</td>\n",
              "      <td>2.0</td>\n",
              "      <td>3.0</td>\n",
              "      <td>8.21</td>\n",
              "      <td>0</td>\n",
              "      <td>0.65</td>\n",
              "    </tr>\n",
              "  </tbody>\n",
              "</table>\n",
              "</div>"
            ],
            "text/plain": [
              "   Serial No.  GRE Score  TOEFL Score  ...  CGPA  Research  Chance of Admit \n",
              "0           1        337          118  ...  9.65         1              0.92\n",
              "1           2        324          107  ...  8.87         1              0.76\n",
              "2           3        316          104  ...  8.00         1              0.72\n",
              "3           4        322          110  ...  8.67         1              0.80\n",
              "4           5        314          103  ...  8.21         0              0.65\n",
              "\n",
              "[5 rows x 9 columns]"
            ]
          },
          "metadata": {
            "tags": []
          },
          "execution_count": 1
        }
      ]
    },
    {
      "cell_type": "markdown",
      "metadata": {
        "id": "sMGPo6LZQA5U",
        "colab_type": "text"
      },
      "source": [
        "From there, we can see that there's 7 continuous parameters (GRE Score, TOEFL Score, University Rating, SOP, LOR, CGPA and Chance of Admit) and one binary (Research). Let's filter out the data we need, normalize it and plot it using matplotlib. I want the GRE score to be a feature (or input) for my model and the Chance of Admit to be the label (or the output)."
      ]
    },
    {
      "cell_type": "code",
      "metadata": {
        "id": "JmqYv34JRWtl",
        "colab_type": "code",
        "outputId": "1f40675a-5e27-49b4-ec1d-aaed2d73e2ea",
        "colab": {
          "base_uri": "https://localhost:8080/",
          "height": 295
        }
      },
      "source": [
        "#picking two continuous variables and normalizing them\n",
        "\n",
        "X = data[['GRE Score']].values/100\n",
        "Y = data[['Chance of Admit ']].values\n",
        "\n",
        "#displaying the data\n",
        "\n",
        "import matplotlib.pyplot as plt\n",
        "\n",
        "plt.scatter(X,Y)\n",
        "plt.xlabel('GRE Score');\n",
        "plt.ylabel('Chance of Admit');\n",
        "plt.title('Chance of Admit based on GRE Score');"
      ],
      "execution_count": 0,
      "outputs": [
        {
          "output_type": "display_data",
          "data": {
            "image/png": "[encoded data removed]",
            "text/plain": [
              "<Figure size 432x288 with 1 Axes>"
            ]
          },
          "metadata": {
            "tags": []
          }
        }
      ]
    },
    {
      "cell_type": "markdown",
      "metadata": {
        "id": "0KXWaQdqRcKV",
        "colab_type": "text"
      },
      "source": [
        "It's obvious from the plot that there's some sort of linear trend. The higher the GRE score, the higher the chance of admittance to a university. Let's prep this data for the model. I'll be using the train_test_split function to quickly separate the data into two groups: one of training the model and one for testing the model's accuracy. <br>\n",
        "Once we separate the two for features and labels each, we can store them in constant tensors."
      ]
    },
    {
      "cell_type": "code",
      "metadata": {
        "id": "CdYz6roVRhvB",
        "colab_type": "code",
        "colab": {}
      },
      "source": [
        "#splitting the features and labels into train and test data\n",
        "#!pip install tf-nightly-2.0-preview\n",
        "import tensorflow as tf\n",
        "from sklearn.model_selection import train_test_split\n",
        "\n",
        "train_features , test_features ,train_labels, test_labels = train_test_split(X, Y, test_size = 0.2)\n",
        "\n",
        "train_X = tf.constant( train_features , dtype=tf.float32 )\n",
        "train_Y = tf.constant( train_labels , dtype=tf.float32 )\n",
        "\n",
        "test_X = tf.constant( test_features , dtype=tf.float32 )\n",
        "test_Y = tf.constant( test_labels , dtype=tf.float32 )"
      ],
      "execution_count": 0,
      "outputs": []
    },
    {
      "cell_type": "markdown",
      "metadata": {
        "id": "Y8gyDt36RvkL",
        "colab_type": "text"
      },
      "source": [
        "In case you're wondering, yes this is TensorFlow 2.0:"
      ]
    },
    {
      "cell_type": "code",
      "metadata": {
        "id": "hjFDMyZ3R4B2",
        "colab_type": "code",
        "outputId": "bcb63cc2-c54a-440a-f3c6-d60cf5ba63d6",
        "colab": {
          "base_uri": "https://localhost:8080/",
          "height": 34
        }
      },
      "source": [
        "tf.__version__"
      ],
      "execution_count": 0,
      "outputs": [
        {
          "output_type": "execute_result",
          "data": {
            "text/plain": [
              "'2.0.0-dev20191002'"
            ]
          },
          "metadata": {
            "tags": []
          },
          "execution_count": 4
        }
      ]
    },
    {
      "cell_type": "markdown",
      "metadata": {
        "id": "CaoJhczxR5-i",
        "colab_type": "text"
      },
      "source": [
        "The next step is to define the methods we described in the math part of the post. We'll be using:\n",
        "<ol>\n",
        "    <li>Mean Squared Error</li>\n",
        "    <li>Mean Squared Error derivative</li>\n",
        "    <li>Linear Regression function or the Hypothesis function</li>\n",
        "</ol>"
      ]
    },
    {
      "cell_type": "code",
      "metadata": {
        "id": "hth99E-XTP33",
        "colab_type": "code",
        "colab": {}
      },
      "source": [
        "#defining the mean square error, its' derivative and the hypothesis function\n",
        "\n",
        "def MSE(Y,y_pred):\n",
        "    return tf.reduce_mean(tf.square(y_pred-Y))\n",
        "\n",
        "def MSE_derivative(Y,y_pred):\n",
        "    return tf.reshape(tf.reduce_mean(2*(y_pred - Y)), [1, 1])\n",
        "\n",
        "def h(X,weights,bias):\n",
        "    return tf.tensordot(X, weights, axes=1)+bias"
      ],
      "execution_count": 0,
      "outputs": []
    },
    {
      "cell_type": "code",
      "metadata": {
        "id": "9f5nkWWVTe3L",
        "colab_type": "code",
        "colab": {}
      },
      "source": [
        "#generating data for learning and shuffling the dataset\n",
        "num_epochs = 100\n",
        "num_samples = train_X.shape[0]\n",
        "batch_size = 10\n",
        "learning_rate = 0.001\n",
        "\n",
        "dataset = tf.data.Dataset.from_tensor_slices((train_X , train_Y))\n",
        "dataset = dataset.shuffle( 500 ).repeat( num_epochs ).batch( batch_size )\n",
        "iterator = dataset.__iter__()"
      ],
      "execution_count": 0,
      "outputs": []
    },
    {
      "cell_type": "code",
      "metadata": {
        "id": "uXwlkttOThXQ",
        "colab_type": "code",
        "outputId": "3a655978-29f9-45a0-9a6b-edcb85619797",
        "colab": {
          "base_uri": "https://localhost:8080/",
          "height": 1000
        }
      },
      "source": [
        "import numpy as np\n",
        "\n",
        "#generating number of features, a random weight and setting the starting bias to 0\n",
        "num_features = train_X.shape[1]\n",
        "weights = tf.random.normal((num_features, 1))\n",
        "bias = tf.random.normal((num_features, 1))\n",
        "\n",
        "#will be used for plotting after\n",
        "epochs_plot = list()\n",
        "loss_plot = list()\n",
        "\n",
        "for i in range(num_epochs) :\n",
        "\n",
        "    epoch_loss = list()\n",
        "    for j in range(int(num_samples/batch_size)):\n",
        "\n",
        "        x_batch , y_batch = iterator.get_next()\n",
        "\n",
        "        output = h(x_batch, weights, bias)\n",
        "        loss = epoch_loss.append( MSE( y_batch , output ).numpy() )\n",
        "\n",
        "        dJ_dH = MSE_derivative(y_batch, output)\n",
        "        dH_dW = x_batch\n",
        "        dJ_dW = tf.reduce_mean( dJ_dH * dH_dW )\n",
        "        dJ_dB = tf.reduce_mean( dJ_dH )\n",
        "\n",
        "        weights -= (learning_rate * dJ_dW)\n",
        "        bias -= (learning_rate * dJ_dB)\n",
        "    loss = np.array(epoch_loss).mean()\n",
        "    epochs_plot.append(i + 1)\n",
        "    loss_plot.append(loss)\n",
        "\n",
        "    print('Loss is', loss )"
      ],
      "execution_count": 0,
      "outputs": [
        {
          "output_type": "stream",
          "text": [
            "Loss is 2.3291197\n",
            "Loss is 0.56981844\n",
            "Loss is 0.14529167\n",
            "Loss is 0.042081505\n",
            "Loss is 0.016930804\n",
            "Loss is 0.010927974\n",
            "Loss is 0.00948506\n",
            "Loss is 0.009118935\n",
            "Loss is 0.009030057\n",
            "Loss is 0.00901003\n",
            "Loss is 0.009007443\n",
            "Loss is 0.0089906985\n",
            "Loss is 0.008987643\n",
            "Loss is 0.008990044\n",
            "Loss is 0.008997655\n",
            "Loss is 0.0089953765\n",
            "Loss is 0.008990699\n",
            "Loss is 0.008993749\n",
            "Loss is 0.00898518\n",
            "Loss is 0.008992183\n",
            "Loss is 0.008992709\n",
            "Loss is 0.008987026\n",
            "Loss is 0.00899381\n",
            "Loss is 0.008988684\n",
            "Loss is 0.008988193\n",
            "Loss is 0.00899677\n",
            "Loss is 0.00899353\n",
            "Loss is 0.008999046\n",
            "Loss is 0.008982924\n",
            "Loss is 0.008986652\n",
            "Loss is 0.008992771\n",
            "Loss is 0.008992004\n",
            "Loss is 0.008993243\n",
            "Loss is 0.008981857\n",
            "Loss is 0.008993154\n",
            "Loss is 0.008994317\n",
            "Loss is 0.008988845\n",
            "Loss is 0.008989212\n",
            "Loss is 0.0089832\n",
            "Loss is 0.008993372\n",
            "Loss is 0.008991183\n",
            "Loss is 0.00899195\n",
            "Loss is 0.008993356\n",
            "Loss is 0.008998759\n",
            "Loss is 0.008989245\n",
            "Loss is 0.0089868\n",
            "Loss is 0.008995121\n",
            "Loss is 0.008983777\n",
            "Loss is 0.008987667\n",
            "Loss is 0.008988316\n",
            "Loss is 0.008995196\n",
            "Loss is 0.008986015\n",
            "Loss is 0.008991527\n",
            "Loss is 0.0089919055\n",
            "Loss is 0.00898781\n",
            "Loss is 0.008988808\n",
            "Loss is 0.008991803\n",
            "Loss is 0.008983176\n",
            "Loss is 0.0089816125\n",
            "Loss is 0.008988781\n",
            "Loss is 0.008987356\n",
            "Loss is 0.008985925\n",
            "Loss is 0.008989754\n",
            "Loss is 0.008993154\n",
            "Loss is 0.008986045\n",
            "Loss is 0.008989942\n",
            "Loss is 0.00898942\n",
            "Loss is 0.008989633\n",
            "Loss is 0.008990768\n",
            "Loss is 0.00899466\n",
            "Loss is 0.008994569\n",
            "Loss is 0.008998392\n",
            "Loss is 0.008990169\n",
            "Loss is 0.008988065\n",
            "Loss is 0.008988827\n",
            "Loss is 0.008993432\n",
            "Loss is 0.0089903455\n",
            "Loss is 0.008993233\n",
            "Loss is 0.008980198\n",
            "Loss is 0.008992287\n",
            "Loss is 0.0089881085\n",
            "Loss is 0.008989274\n",
            "Loss is 0.008985717\n",
            "Loss is 0.008989399\n",
            "Loss is 0.008990463\n",
            "Loss is 0.008994186\n",
            "Loss is 0.008994315\n",
            "Loss is 0.008989481\n",
            "Loss is 0.008993156\n",
            "Loss is 0.0089843385\n",
            "Loss is 0.008989707\n",
            "Loss is 0.009007715\n",
            "Loss is 0.008988185\n",
            "Loss is 0.0089913625\n",
            "Loss is 0.0090110935\n",
            "Loss is 0.008992589\n",
            "Loss is 0.008985263\n",
            "Loss is 0.008992352\n",
            "Loss is 0.008991102\n",
            "Loss is 0.008988762\n"
          ],
          "name": "stdout"
        }
      ]
    },
    {
      "cell_type": "code",
      "metadata": {
        "id": "VGAXlSqTTjkz",
        "colab_type": "code",
        "outputId": "453e3406-ce84-4d4e-c3e7-a858eb6b3164",
        "colab": {
          "base_uri": "https://localhost:8080/",
          "height": 295
        }
      },
      "source": [
        "plt.plot(epochs_plot, loss_plot, color='C9')\n",
        "plt.title('Loss over epochs');\n",
        "plt.xlabel('Epochs');\n",
        "plt.ylabel('Loss');"
      ],
      "execution_count": 0,
      "outputs": [
        {
          "output_type": "display_data",
          "data": {
            "image/png": "[encoded data removed]",
            "text/plain": [
              "<Figure size 432x288 with 1 Axes>"
            ]
          },
          "metadata": {
            "tags": []
          }
        }
      ]
    },
    {
      "cell_type": "code",
      "metadata": {
        "id": "hwNFHJyzTmAH",
        "colab_type": "code",
        "outputId": "a7ee302f-af63-4f7c-d6ab-51869d0a4ae1",
        "colab": {
          "base_uri": "https://localhost:8080/",
          "height": 34
        }
      },
      "source": [
        "output = h(test_X , weights , bias )\n",
        "labels = test_Y\n",
        "\n",
        "accuracy_op = tf.metrics.MeanAbsoluteError()\n",
        "accuracy_op.update_state( labels , output )\n",
        "print( 'Mean Absolute Error = {}'.format( accuracy_op.result().numpy() ) )"
      ],
      "execution_count": 0,
      "outputs": [
        {
          "output_type": "stream",
          "text": [
            "Mean Absolute Error = 0.06439020484685898\n"
          ],
          "name": "stdout"
        }
      ]
    },
    {
      "cell_type": "code",
      "metadata": {
        "id": "XpA5lRZEToeq",
        "colab_type": "code",
        "outputId": "1ddc232d-c08e-474c-8048-3fd3afd849f8",
        "colab": {
          "base_uri": "https://localhost:8080/",
          "height": 282
        }
      },
      "source": [
        "plt.scatter(train_X,train_Y, color='C9')\n",
        "plt.plot(test_X, output, color='C3')"
      ],
      "execution_count": 0,
      "outputs": [
        {
          "output_type": "execute_result",
          "data": {
            "text/plain": [
              "[<matplotlib.lines.Line2D at 0x7fa26a810940>]"
            ]
          },
          "metadata": {
            "tags": []
          },
          "execution_count": 10
        },
        {
          "output_type": "display_data",
          "data": {
            "image/png": "[encoded data removed]",
            "text/plain": [
              "<Figure size 432x288 with 1 Axes>"
            ]
          },
          "metadata": {
            "tags": []
          }
        }
      ]
    },
    {
      "cell_type": "code",
      "metadata": {
        "id": "KbriCx0zujAE",
        "colab_type": "code",
        "colab": {}
      },
      "source": [
        ""
      ],
      "execution_count": 0,
      "outputs": []
    }
  ]
}