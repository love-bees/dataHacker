{
  "nbformat": 4,
  "nbformat_minor": 0,
  "metadata": {
    "colab": {
      "name": "08_TSERIES.ipynb",
      "provenance": [],
      "authorship_tag": "ABX9TyOWQU1A9KJ+9odI7AgquypC",
      "include_colab_link": true
    },
    "kernelspec": {
      "name": "python3",
      "display_name": "Python 3"
    }
  },
  "cells": [
    {
      "cell_type": "markdown",
      "metadata": {
        "id": "view-in-github",
        "colab_type": "text"
      },
      "source": [
        "<a href=\"https://colab.research.google.com/github/love-bees/dataHacker/blob/master/08_TSERIES.ipynb\" target=\"_parent\"><img src=\"https://colab.research.google.com/assets/colab-badge.svg\" alt=\"Open In Colab\"/></a>"
      ]
    },
    {
      "cell_type": "markdown",
      "metadata": {
        "id": "hg1R3YNjmsLp",
        "colab_type": "text"
      },
      "source": [
        "# Series, Time Series"
      ]
    },
    {
      "cell_type": "markdown",
      "metadata": {
        "id": "pVdFmOcVohHe",
        "colab_type": "text"
      },
      "source": [
        "This post will be dedicated to time related data, or data where time plays an important role. Some examples where we can encounter such singals/series:\n",
        "<ul>\n",
        "<li>Stock exchange, daily exchange rates</li>\n",
        "<li>Processes which change on a daily basis such as: temperature, air pollution</li>\n",
        "<li>Number of passengers that travel with an airline company daily</li>\n",
        "<li>Number of guests/tourists that visit a certain country/city/hotel in a day</li>\n",
        "</ul>\n",
        "\n",
        "In order to work with series, we will use the library `Pandas`. A series is actually represented using two NumPy arrays: `.index` and `.values`. The first is used to store time indexes. This can be an ordinal number (0, 1, 2, 3 ... or 10, 20, 30), date-year/month/day or time/hour/minute/second. The second array are the actual values of the series and it is stored in `series.values` array. Here we will store data about temperatures, number of tourists and similar.\n",
        "\n",
        "Let's see how we can create a simplified time series by hand."
      ]
    },
    {
      "cell_type": "code",
      "metadata": {
        "id": "DcbJyzgUzBVJ",
        "colab_type": "code",
        "colab": {}
      },
      "source": [
        "# Importing the library which is necessary for working with Series\n",
        "from pandas import Series"
      ],
      "execution_count": 0,
      "outputs": []
    },
    {
      "cell_type": "code",
      "metadata": {
        "id": "aL9TI-BDzGbE",
        "colab_type": "code",
        "colab": {}
      },
      "source": [
        "# Loading the library needed to work with graphs\n",
        "import matplotlib.pyplot as plt"
      ],
      "execution_count": 0,
      "outputs": []
    },
    {
      "cell_type": "code",
      "metadata": {
        "id": "fUIiY1wYzQEf",
        "colab_type": "code",
        "colab": {}
      },
      "source": [
        "series = Series ([1,2,2,4,6,9])"
      ],
      "execution_count": 0,
      "outputs": []
    },
    {
      "cell_type": "code",
      "metadata": {
        "id": "oOSan6kZzTCv",
        "colab_type": "code",
        "colab": {
          "base_uri": "https://localhost:8080/",
          "height": 123
        },
        "outputId": "1448f0ed-e727-40d9-9de0-49a4fa4c536a"
      },
      "source": [
        "# The command head() gives us the first couple of elements of the series\n",
        "# This is very useful when a series has a large amount of elements, making it hard to read\n",
        "series.head()"
      ],
      "execution_count": 4,
      "outputs": [
        {
          "output_type": "execute_result",
          "data": {
            "text/plain": [
              "0    1\n",
              "1    2\n",
              "2    2\n",
              "3    4\n",
              "4    6\n",
              "dtype: int64"
            ]
          },
          "metadata": {
            "tags": []
          },
          "execution_count": 4
        }
      ]
    },
    {
      "cell_type": "code",
      "metadata": {
        "id": "l6lBgROjzmNz",
        "colab_type": "code",
        "colab": {}
      },
      "source": [
        "# We can see that a column for time indexing was automatically generated\n",
        "# In this case, it's an array that starts from zero"
      ],
      "execution_count": 0,
      "outputs": []
    },
    {
      "cell_type": "code",
      "metadata": {
        "id": "EbUYEDlq1kzR",
        "colab_type": "code",
        "colab": {
          "base_uri": "https://localhost:8080/",
          "height": 35
        },
        "outputId": "fbda101d-8bbc-4f50-918d-9b02dea9b9d3"
      },
      "source": [
        "# Time variable is accessed by using this command\n",
        "series.index"
      ],
      "execution_count": 6,
      "outputs": [
        {
          "output_type": "execute_result",
          "data": {
            "text/plain": [
              "RangeIndex(start=0, stop=6, step=1)"
            ]
          },
          "metadata": {
            "tags": []
          },
          "execution_count": 6
        }
      ]
    },
    {
      "cell_type": "code",
      "metadata": {
        "id": "Y6sfVFq71qQx",
        "colab_type": "code",
        "colab": {
          "base_uri": "https://localhost:8080/",
          "height": 35
        },
        "outputId": "43ee2046-882d-450f-8c3e-ada0abc266d6"
      },
      "source": [
        "# The data elements can be accessed using this command\n",
        "series.values"
      ],
      "execution_count": 7,
      "outputs": [
        {
          "output_type": "execute_result",
          "data": {
            "text/plain": [
              "array([1, 2, 2, 4, 6, 9])"
            ]
          },
          "metadata": {
            "tags": []
          },
          "execution_count": 7
        }
      ]
    },
    {
      "cell_type": "code",
      "metadata": {
        "id": "4iIYIb-M1x7_",
        "colab_type": "code",
        "colab": {
          "base_uri": "https://localhost:8080/",
          "height": 35
        },
        "outputId": "7db545e1-c000-46e0-8845-99b22092e30e"
      },
      "source": [
        "# The data type can be checked using this command \n",
        "type(series.values[0])"
      ],
      "execution_count": 8,
      "outputs": [
        {
          "output_type": "execute_result",
          "data": {
            "text/plain": [
              "numpy.int64"
            ]
          },
          "metadata": {
            "tags": []
          },
          "execution_count": 8
        }
      ]
    },
    {
      "cell_type": "markdown",
      "metadata": {
        "id": "F3DK3l9a18yg",
        "colab_type": "text"
      },
      "source": [
        "The important thing when working with series is the way we can access the elements themselves in order to display it visually."
      ]
    },
    {
      "cell_type": "code",
      "metadata": {
        "id": "-kwXorzn2ZXm",
        "colab_type": "code",
        "colab": {
          "base_uri": "https://localhost:8080/",
          "height": 35
        },
        "outputId": "d675550a-170d-48bc-8378-7e72bc2bc152"
      },
      "source": [
        "# We can also print the elements of the series, we access them as NumPy arrays\n",
        "# We will stick to the values that are stored in the column series.index\n",
        "series[0]\n",
        "print (series[2], series[4])"
      ],
      "execution_count": 9,
      "outputs": [
        {
          "output_type": "stream",
          "text": [
            "2 6\n"
          ],
          "name": "stdout"
        }
      ]
    },
    {
      "cell_type": "code",
      "metadata": {
        "id": "InTFfoRC2vTZ",
        "colab_type": "code",
        "colab": {}
      },
      "source": [
        "# If we try to execute the command print(series[-1])\n",
        "# we will get an error, because indexing in this way isn't defined (see also series.loc / series.iloc[])\n",
        "# You can always type in series. and then press the TAB key. In this way, we can get aquainted\n",
        "# with a large number of attributes and functions"
      ],
      "execution_count": 0,
      "outputs": []
    },
    {
      "cell_type": "code",
      "metadata": {
        "id": "wsJ-KAw83YTh",
        "colab_type": "code",
        "colab": {
          "base_uri": "https://localhost:8080/",
          "height": 52
        },
        "outputId": "16525138-8085-441e-c7ae-e164c55bc5c6"
      },
      "source": [
        "# In this way we are able to index elements of a series just like with numpy arrays\n",
        "print(series.iloc[-1])\n",
        "print(series.iloc[-2])"
      ],
      "execution_count": 11,
      "outputs": [
        {
          "output_type": "stream",
          "text": [
            "9\n",
            "6\n"
          ],
          "name": "stdout"
        }
      ]
    },
    {
      "cell_type": "code",
      "metadata": {
        "id": "_9pYnJzy3h4F",
        "colab_type": "code",
        "colab": {}
      },
      "source": [
        "# Using the function .plot() which is assigned to instances of the type series, we can get a quick visual of the series"
      ],
      "execution_count": 0,
      "outputs": []
    },
    {
      "cell_type": "code",
      "metadata": {
        "id": "28OMuQla350j",
        "colab_type": "code",
        "colab": {
          "base_uri": "https://localhost:8080/",
          "height": 283
        },
        "outputId": "9bca1742-8af6-4eab-decd-40d3d5f41047"
      },
      "source": [
        "series.plot()"
      ],
      "execution_count": 13,
      "outputs": [
        {
          "output_type": "execute_result",
          "data": {
            "text/plain": [
              "<matplotlib.axes._subplots.AxesSubplot at 0x7ff441ba0e48>"
            ]
          },
          "metadata": {
            "tags": []
          },
          "execution_count": 13
        },
        {
          "output_type": "display_data",
          "data": {
            "image/png": "[encoded data removed]",
            "text/plain": [
              "<Figure size 432x288 with 1 Axes>"
            ]
          },
          "metadata": {
            "tags": []
          }
        }
      ]
    },
    {
      "cell_type": "code",
      "metadata": {
        "id": "VYlLrxuv38FS",
        "colab_type": "code",
        "colab": {
          "base_uri": "https://localhost:8080/",
          "height": 283
        },
        "outputId": "7536bd49-eb6c-4b55-8ea7-9e40de358dd5"
      },
      "source": [
        "# If we use the standard library plt, we have some more options\n",
        "# We can explictly adjust the time axis \n",
        "plt.plot(series.index, series.values)"
      ],
      "execution_count": 14,
      "outputs": [
        {
          "output_type": "execute_result",
          "data": {
            "text/plain": [
              "[<matplotlib.lines.Line2D at 0x7ff440e000f0>]"
            ]
          },
          "metadata": {
            "tags": []
          },
          "execution_count": 14
        },
        {
          "output_type": "display_data",
          "data": {
            "image/png": "[encoded data removed]",
            "text/plain": [
              "<Figure size 432x288 with 1 Axes>"
            ]
          },
          "metadata": {
            "tags": []
          }
        }
      ]
    },
    {
      "cell_type": "markdown",
      "metadata": {
        "id": "VYdHPhTg4J9X",
        "colab_type": "text"
      },
      "source": [
        "Now, let's play with some real, historical series. They're usually saved in the .csv format and the first column can represent the date. Let's look at the file \"[daily-total-female-births.csv](https://www.kaggle.com/dougcresswell/daily-total-female-births-in-california-1959)\" (follow the link and click Download). The dataset represents the number of female children who were born in one day in California. Moving on to code:"
      ]
    },
    {
      "cell_type": "code",
      "metadata": {
        "id": "4I69lMr34pIQ",
        "colab_type": "code",
        "colab": {}
      },
      "source": [
        "import pandas as pd\n",
        "# In this way we're able to load the series.\n",
        "# This is actually one .csv file (we can open it in Excel or LibreOffice as well)\n",
        "data_csv = pd.read_csv('daily-total-female-births-CA.csv')\n",
        "# EDIT THIS vvvvvvvvvvvvvvvvvvvvvvvvvvvvvvvvvv\n",
        "# We used the command .from_csv and provided the name of the file\n",
        "# In order for this to work, make sure to download the .csv file from the link provided\n",
        "# Also, in case you're using Colab, this is easiest to do from the left hand side\n",
        "# Click on the folder icon and press Upload. This will open up a prompt to search for the file on your computer\n",
        "# This way, you won't have to know the file path for the .csv file\n",
        "# Lastly, we also added a parameter called header, and with that we're suggesting to skip the first (zeroth) row\n",
        "# because this row is usually reserved for the column names\n",
        "# EDIT THIS ^^^^^^^^^^^^^^^^^^^^^^^^^^^^^^^^^^^"
      ],
      "execution_count": 0,
      "outputs": []
    },
    {
      "cell_type": "code",
      "metadata": {
        "id": "LoSXxTyz-Glq",
        "colab_type": "code",
        "colab": {
          "base_uri": "https://localhost:8080/",
          "height": 203
        },
        "outputId": "c6832ca7-2918-4014-d768-f777b0044dee"
      },
      "source": [
        "data_csv.head()"
      ],
      "execution_count": 25,
      "outputs": [
        {
          "output_type": "execute_result",
          "data": {
            "text/html": [
              "<div>\n",
              "<style scoped>\n",
              "    .dataframe tbody tr th:only-of-type {\n",
              "        vertical-align: middle;\n",
              "    }\n",
              "\n",
              "    .dataframe tbody tr th {\n",
              "        vertical-align: top;\n",
              "    }\n",
              "\n",
              "    .dataframe thead th {\n",
              "        text-align: right;\n",
              "    }\n",
              "</style>\n",
              "<table border=\"1\" class=\"dataframe\">\n",
              "  <thead>\n",
              "    <tr style=\"text-align: right;\">\n",
              "      <th></th>\n",
              "      <th>date</th>\n",
              "      <th>births</th>\n",
              "    </tr>\n",
              "  </thead>\n",
              "  <tbody>\n",
              "    <tr>\n",
              "      <th>0</th>\n",
              "      <td>1959-01-01</td>\n",
              "      <td>35</td>\n",
              "    </tr>\n",
              "    <tr>\n",
              "      <th>1</th>\n",
              "      <td>1959-01-02</td>\n",
              "      <td>32</td>\n",
              "    </tr>\n",
              "    <tr>\n",
              "      <th>2</th>\n",
              "      <td>1959-01-03</td>\n",
              "      <td>30</td>\n",
              "    </tr>\n",
              "    <tr>\n",
              "      <th>3</th>\n",
              "      <td>1959-01-04</td>\n",
              "      <td>31</td>\n",
              "    </tr>\n",
              "    <tr>\n",
              "      <th>4</th>\n",
              "      <td>1959-01-05</td>\n",
              "      <td>44</td>\n",
              "    </tr>\n",
              "  </tbody>\n",
              "</table>\n",
              "</div>"
            ],
            "text/plain": [
              "         date  births\n",
              "0  1959-01-01      35\n",
              "1  1959-01-02      32\n",
              "2  1959-01-03      30\n",
              "3  1959-01-04      31\n",
              "4  1959-01-05      44"
            ]
          },
          "metadata": {
            "tags": []
          },
          "execution_count": 25
        }
      ]
    },
    {
      "cell_type": "code",
      "metadata": {
        "id": "eXuMC-uaABEK",
        "colab_type": "code",
        "colab": {}
      },
      "source": [
        "series_births = pd.Series(data = data_csv.births.values, index=data_csv.date)"
      ],
      "execution_count": 0,
      "outputs": []
    },
    {
      "cell_type": "code",
      "metadata": {
        "id": "yeUuU2RoDjbw",
        "colab_type": "code",
        "colab": {
          "base_uri": "https://localhost:8080/",
          "height": 141
        },
        "outputId": "d9e9844b-05f2-4462-8a8d-3ba28b759eef"
      },
      "source": [
        "series_births.head()"
      ],
      "execution_count": 27,
      "outputs": [
        {
          "output_type": "execute_result",
          "data": {
            "text/plain": [
              "date\n",
              "1959-01-01    35\n",
              "1959-01-02    32\n",
              "1959-01-03    30\n",
              "1959-01-04    31\n",
              "1959-01-05    44\n",
              "dtype: int64"
            ]
          },
          "metadata": {
            "tags": []
          },
          "execution_count": 27
        }
      ]
    },
    {
      "cell_type": "code",
      "metadata": {
        "id": "V9SZ1X8iDkpR",
        "colab_type": "code",
        "colab": {
          "base_uri": "https://localhost:8080/",
          "height": 70
        },
        "outputId": "5a913f30-7597-49eb-d6ea-f1a191cd07c2"
      },
      "source": [
        ""
      ],
      "execution_count": 21,
      "outputs": [
        {
          "output_type": "execute_result",
          "data": {
            "text/plain": [
              "date      1959-01-01\n",
              "births            35\n",
              "Name: 0, dtype: object"
            ]
          },
          "metadata": {
            "tags": []
          },
          "execution_count": 21
        }
      ]
    },
    {
      "cell_type": "code",
      "metadata": {
        "id": "7tXPYsBRGjS6",
        "colab_type": "code",
        "colab": {}
      },
      "source": [
        ""
      ],
      "execution_count": 0,
      "outputs": []
    },
    {
      "cell_type": "code",
      "metadata": {
        "id": "sE845w1dGnK6",
        "colab_type": "code",
        "colab": {}
      },
      "source": [
        ""
      ],
      "execution_count": 0,
      "outputs": []
    },
    {
      "cell_type": "code",
      "metadata": {
        "id": "5sO3UtZrkWfo",
        "colab_type": "code",
        "colab": {}
      },
      "source": [
        ""
      ],
      "execution_count": 0,
      "outputs": []
    }
  ]
}