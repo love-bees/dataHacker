{
  "nbformat": 4,
  "nbformat_minor": 0,
  "metadata": {
    "colab": {
      "name": "08_TSERIES.ipynb",
      "provenance": [],
      "collapsed_sections": [],
      "authorship_tag": "ABX9TyNIxPhZ1glz8DqNd6hh+aBH",
      "include_colab_link": true
    },
    "kernelspec": {
      "name": "python3",
      "display_name": "Python 3"
    }
  },
  "cells": [
    {
      "cell_type": "markdown",
      "metadata": {
        "id": "view-in-github",
        "colab_type": "text"
      },
      "source": [
        "<a href=\"https://colab.research.google.com/github/love-bees/dataHacker/blob/master/08_TSERIES.ipynb\" target=\"_parent\"><img src=\"https://colab.research.google.com/assets/colab-badge.svg\" alt=\"Open In Colab\"/></a>"
      ]
    },
    {
      "cell_type": "markdown",
      "metadata": {
        "id": "hg1R3YNjmsLp",
        "colab_type": "text"
      },
      "source": [
        "# Series, Time Series"
      ]
    },
    {
      "cell_type": "markdown",
      "metadata": {
        "id": "pVdFmOcVohHe",
        "colab_type": "text"
      },
      "source": [
        "This post will be dedicated to time related data, or data where time plays an important role. Some examples where we can encounter such singals/series:\n",
        "<ul>\n",
        "<li>Stock exchange, daily exchange rates</li>\n",
        "<li>Processes which change on a daily basis such as: temperature, air pollution</li>\n",
        "<li>Number of passengers that travel with an airline company daily</li>\n",
        "<li>Number of guests/tourists that visit a certain country/city/hotel in a day</li>\n",
        "</ul>\n",
        "\n",
        "In order to work with series, we will use the library `Pandas`. A series is actually represented using two NumPy arrays: `.index` and `.values`. The first is used to store time indexes. This can be an ordinal number (0, 1, 2, 3 ... or 10, 20, 30), date-year/month/day or time/hour/minute/second. The second array are the actual values of the series and it is stored in `series.values` array. Here we will store data about temperatures, number of tourists and similar.\n",
        "\n",
        "Let's see how we can create a simplified time series by hand."
      ]
    },
    {
      "cell_type": "code",
      "metadata": {
        "id": "DcbJyzgUzBVJ",
        "colab_type": "code",
        "colab": {}
      },
      "source": [
        "# Importing the library which is necessary for working with Series\n",
        "from pandas import Series"
      ],
      "execution_count": 0,
      "outputs": []
    },
    {
      "cell_type": "code",
      "metadata": {
        "id": "aL9TI-BDzGbE",
        "colab_type": "code",
        "colab": {}
      },
      "source": [
        "# Loading the library needed to work with graphs\n",
        "import matplotlib.pyplot as plt"
      ],
      "execution_count": 0,
      "outputs": []
    },
    {
      "cell_type": "code",
      "metadata": {
        "id": "fUIiY1wYzQEf",
        "colab_type": "code",
        "colab": {}
      },
      "source": [
        "series = Series ([1,2,2,4,6,9])"
      ],
      "execution_count": 0,
      "outputs": []
    },
    {
      "cell_type": "code",
      "metadata": {
        "id": "oOSan6kZzTCv",
        "colab_type": "code",
        "outputId": "94f2315a-7bef-45d5-da61-0d333b4873ee",
        "colab": {
          "base_uri": "https://localhost:8080/",
          "height": 121
        }
      },
      "source": [
        "# The command head() gives us the first couple of elements of the series\n",
        "# This is very useful when a series has a large amount of elements, making it hard to read\n",
        "series.head()"
      ],
      "execution_count": 4,
      "outputs": [
        {
          "output_type": "execute_result",
          "data": {
            "text/plain": [
              "0    1\n",
              "1    2\n",
              "2    2\n",
              "3    4\n",
              "4    6\n",
              "dtype: int64"
            ]
          },
          "metadata": {
            "tags": []
          },
          "execution_count": 4
        }
      ]
    },
    {
      "cell_type": "code",
      "metadata": {
        "id": "l6lBgROjzmNz",
        "colab_type": "code",
        "colab": {}
      },
      "source": [
        "# We can see that a column for time indexing was automatically generated\n",
        "# In this case, it's an array that starts from zero"
      ],
      "execution_count": 0,
      "outputs": []
    },
    {
      "cell_type": "code",
      "metadata": {
        "id": "EbUYEDlq1kzR",
        "colab_type": "code",
        "outputId": "c5dc2a3f-73a4-4950-943c-b9a69e3d92f4",
        "colab": {
          "base_uri": "https://localhost:8080/",
          "height": 34
        }
      },
      "source": [
        "# Time variable is accessed by using this command\n",
        "series.index"
      ],
      "execution_count": 6,
      "outputs": [
        {
          "output_type": "execute_result",
          "data": {
            "text/plain": [
              "RangeIndex(start=0, stop=6, step=1)"
            ]
          },
          "metadata": {
            "tags": []
          },
          "execution_count": 6
        }
      ]
    },
    {
      "cell_type": "code",
      "metadata": {
        "id": "Y6sfVFq71qQx",
        "colab_type": "code",
        "outputId": "0ff8c7d3-aef7-4444-82b2-adffa0547feb",
        "colab": {
          "base_uri": "https://localhost:8080/",
          "height": 34
        }
      },
      "source": [
        "# The data elements can be accessed using this command\n",
        "series.values"
      ],
      "execution_count": 7,
      "outputs": [
        {
          "output_type": "execute_result",
          "data": {
            "text/plain": [
              "array([1, 2, 2, 4, 6, 9])"
            ]
          },
          "metadata": {
            "tags": []
          },
          "execution_count": 7
        }
      ]
    },
    {
      "cell_type": "code",
      "metadata": {
        "id": "4iIYIb-M1x7_",
        "colab_type": "code",
        "outputId": "d9c40604-e688-4e03-c2ce-5fcade3da4e9",
        "colab": {
          "base_uri": "https://localhost:8080/",
          "height": 34
        }
      },
      "source": [
        "# The data type can be checked using this command \n",
        "type(series.values[0])"
      ],
      "execution_count": 8,
      "outputs": [
        {
          "output_type": "execute_result",
          "data": {
            "text/plain": [
              "numpy.int64"
            ]
          },
          "metadata": {
            "tags": []
          },
          "execution_count": 8
        }
      ]
    },
    {
      "cell_type": "markdown",
      "metadata": {
        "id": "F3DK3l9a18yg",
        "colab_type": "text"
      },
      "source": [
        "The important thing when working with series is the way we can access the elements themselves in order to display it visually."
      ]
    },
    {
      "cell_type": "code",
      "metadata": {
        "id": "-kwXorzn2ZXm",
        "colab_type": "code",
        "outputId": "7a1fca53-08b9-4ec7-cfcf-beda598a13bf",
        "colab": {
          "base_uri": "https://localhost:8080/",
          "height": 34
        }
      },
      "source": [
        "# We can also print the elements of the series, we access them as NumPy arrays\n",
        "# We will stick to the values that are stored in the column series.index\n",
        "series[0]\n",
        "print (series[2], series[4])"
      ],
      "execution_count": 9,
      "outputs": [
        {
          "output_type": "stream",
          "text": [
            "2 6\n"
          ],
          "name": "stdout"
        }
      ]
    },
    {
      "cell_type": "code",
      "metadata": {
        "id": "InTFfoRC2vTZ",
        "colab_type": "code",
        "colab": {}
      },
      "source": [
        "# If we try to execute the command print(series[-1])\n",
        "# we will get an error, because indexing in this way isn't defined (see also series.loc / series.iloc[])\n",
        "# You can always type in series. and then press the TAB key. In this way, we can get aquainted\n",
        "# with a large number of attributes and functions"
      ],
      "execution_count": 0,
      "outputs": []
    },
    {
      "cell_type": "code",
      "metadata": {
        "id": "wsJ-KAw83YTh",
        "colab_type": "code",
        "outputId": "bcf1dec9-1a53-42b9-e3fd-8b6bc9214fc0",
        "colab": {
          "base_uri": "https://localhost:8080/",
          "height": 52
        }
      },
      "source": [
        "# In this way we are able to index elements of a series just like with numpy arrays\n",
        "print(series.iloc[-1])\n",
        "print(series.iloc[-2])"
      ],
      "execution_count": 11,
      "outputs": [
        {
          "output_type": "stream",
          "text": [
            "9\n",
            "6\n"
          ],
          "name": "stdout"
        }
      ]
    },
    {
      "cell_type": "code",
      "metadata": {
        "id": "_9pYnJzy3h4F",
        "colab_type": "code",
        "colab": {}
      },
      "source": [
        "# Using the function .plot() which is assigned to instances of the type series, we can get a quick visual of the series"
      ],
      "execution_count": 0,
      "outputs": []
    },
    {
      "cell_type": "code",
      "metadata": {
        "id": "28OMuQla350j",
        "colab_type": "code",
        "outputId": "6d4aced4-96d6-4ec5-a13d-078146371e59",
        "colab": {
          "base_uri": "https://localhost:8080/",
          "height": 282
        }
      },
      "source": [
        "series.plot()"
      ],
      "execution_count": 13,
      "outputs": [
        {
          "output_type": "execute_result",
          "data": {
            "text/plain": [
              "<matplotlib.axes._subplots.AxesSubplot at 0x7ff301469128>"
            ]
          },
          "metadata": {
            "tags": []
          },
          "execution_count": 13
        },
        {
          "output_type": "display_data",
          "data": {
            "image/png": "[encoded data removed]",
            "text/plain": [
              "<Figure size 432x288 with 1 Axes>"
            ]
          },
          "metadata": {
            "tags": []
          }
        }
      ]
    },
    {
      "cell_type": "code",
      "metadata": {
        "id": "VYlLrxuv38FS",
        "colab_type": "code",
        "outputId": "c742ff6d-ecfe-45eb-b416-3f6991b32257",
        "colab": {
          "base_uri": "https://localhost:8080/",
          "height": 282
        }
      },
      "source": [
        "# If we use the standard library plt, we have some more options\n",
        "# We can explictly adjust the time axis \n",
        "plt.plot(series.index, series.values)"
      ],
      "execution_count": 14,
      "outputs": [
        {
          "output_type": "execute_result",
          "data": {
            "text/plain": [
              "[<matplotlib.lines.Line2D at 0x7ff300f01390>]"
            ]
          },
          "metadata": {
            "tags": []
          },
          "execution_count": 14
        },
        {
          "output_type": "display_data",
          "data": {
            "image/png": "[encoded data removed]",
            "text/plain": [
              "<Figure size 432x288 with 1 Axes>"
            ]
          },
          "metadata": {
            "tags": []
          }
        }
      ]
    },
    {
      "cell_type": "markdown",
      "metadata": {
        "id": "VYdHPhTg4J9X",
        "colab_type": "text"
      },
      "source": [
        "Now, let's play with some real, historical series. They're usually saved in the .csv format and the first column can represent the date. Let's look at the file \"[daily-total-female-births-CA.csv](https://www.kaggle.com/dougcresswell/daily-total-female-births-in-california-1959)\" (follow the link and click Download). The dataset represents the number of female children who were born in one day in California. Moving on to code:"
      ]
    },
    {
      "cell_type": "code",
      "metadata": {
        "id": "4I69lMr34pIQ",
        "colab_type": "code",
        "colab": {}
      },
      "source": [
        "import pandas as pd\n",
        "# In this way we're able to load the series.\n",
        "# This is actually one .csv file (we can open it in Excel or LibreOffice as well)\n",
        "data_csv = pd.read_csv('daily-total-female-births-CA.csv')\n",
        "series_births = pd.Series(data = data_csv.births.values, index=data_csv.date)\n",
        "series_births.index = pd.to_datetime(series_births.index)\n",
        "# We imported the csv file using the read_csv function within the pandas library\n",
        "# Next, we create a series, taking the births' values for the data and the dates as the index\n",
        "# Lastly, we change the date (which is a string) and using the function to_datetime we're able to \n",
        "# change the string into a datetime value, which is very convenient for working with any sort of time variable"
      ],
      "execution_count": 0,
      "outputs": []
    },
    {
      "cell_type": "code",
      "metadata": {
        "id": "LoSXxTyz-Glq",
        "colab_type": "code",
        "colab": {}
      },
      "source": [
        "data_csv.index = pd.to_datetime(data_csv.index)"
      ],
      "execution_count": 0,
      "outputs": []
    },
    {
      "cell_type": "code",
      "metadata": {
        "id": "yeUuU2RoDjbw",
        "colab_type": "code",
        "outputId": "7c571af3-f22e-4148-b89d-b71edfbb61ad",
        "colab": {
          "base_uri": "https://localhost:8080/",
          "height": 139
        }
      },
      "source": [
        "series_births.head()"
      ],
      "execution_count": 17,
      "outputs": [
        {
          "output_type": "execute_result",
          "data": {
            "text/plain": [
              "date\n",
              "1959-01-01    35\n",
              "1959-01-02    32\n",
              "1959-01-03    30\n",
              "1959-01-04    31\n",
              "1959-01-05    44\n",
              "dtype: int64"
            ]
          },
          "metadata": {
            "tags": []
          },
          "execution_count": 17
        }
      ]
    },
    {
      "cell_type": "code",
      "metadata": {
        "id": "5sO3UtZrkWfo",
        "colab_type": "code",
        "outputId": "6bcf5b2f-9489-4509-c8f6-e64cfefd9756",
        "colab": {
          "base_uri": "https://localhost:8080/",
          "height": 156
        }
      },
      "source": [
        "# The table that we imported has two columns\n",
        "# The first has dates, it's turned into the index\n",
        "# The value of the actual daily values are in the values (lol ahah change this)\n",
        "series_births.index"
      ],
      "execution_count": 18,
      "outputs": [
        {
          "output_type": "execute_result",
          "data": {
            "text/plain": [
              "DatetimeIndex(['1959-01-01', '1959-01-02', '1959-01-03', '1959-01-04',\n",
              "               '1959-01-05', '1959-01-06', '1959-01-07', '1959-01-08',\n",
              "               '1959-01-09', '1959-01-10',\n",
              "               ...\n",
              "               '1959-12-22', '1959-12-23', '1959-12-24', '1959-12-25',\n",
              "               '1959-12-26', '1959-12-27', '1959-12-28', '1959-12-29',\n",
              "               '1959-12-30', '1959-12-31'],\n",
              "              dtype='datetime64[ns]', name='date', length=365, freq=None)"
            ]
          },
          "metadata": {
            "tags": []
          },
          "execution_count": 18
        }
      ]
    },
    {
      "cell_type": "code",
      "metadata": {
        "id": "oZ5qv1iNp07Q",
        "colab_type": "code",
        "outputId": "2f7eb272-2147-4aee-afce-fcfa49a57ebf",
        "colab": {
          "base_uri": "https://localhost:8080/",
          "height": 34
        }
      },
      "source": [
        "# We can see that the data type we have here is actually\n",
        "# Timestamp, which Python uses for working with dates\n",
        "type (series_births.index[0])"
      ],
      "execution_count": 19,
      "outputs": [
        {
          "output_type": "execute_result",
          "data": {
            "text/plain": [
              "pandas._libs.tslibs.timestamps.Timestamp"
            ]
          },
          "metadata": {
            "tags": []
          },
          "execution_count": 19
        }
      ]
    },
    {
      "cell_type": "code",
      "metadata": {
        "id": "esh5y0gBqB8P",
        "colab_type": "code",
        "outputId": "76af5fd7-d005-4a8b-e39c-7123e8ab1872",
        "colab": {
          "base_uri": "https://localhost:8080/",
          "height": 34
        }
      },
      "source": [
        "series_births.index[0]"
      ],
      "execution_count": 20,
      "outputs": [
        {
          "output_type": "execute_result",
          "data": {
            "text/plain": [
              "Timestamp('1959-01-01 00:00:00')"
            ]
          },
          "metadata": {
            "tags": []
          },
          "execution_count": 20
        }
      ]
    },
    {
      "cell_type": "code",
      "metadata": {
        "id": "6XXVro45qHJ4",
        "colab_type": "code",
        "outputId": "0c9f2940-07f3-4dcd-df03-186b3b511a92",
        "colab": {
          "base_uri": "https://localhost:8080/",
          "height": 308
        }
      },
      "source": [
        "series_births.plot()"
      ],
      "execution_count": 21,
      "outputs": [
        {
          "output_type": "execute_result",
          "data": {
            "text/plain": [
              "<matplotlib.axes._subplots.AxesSubplot at 0x7ff31f519cc0>"
            ]
          },
          "metadata": {
            "tags": []
          },
          "execution_count": 21
        },
        {
          "output_type": "display_data",
          "data": {
            "image/png": "[encoded data removed]",
            "text/plain": [
              "<Figure size 432x288 with 1 Axes>"
            ]
          },
          "metadata": {
            "tags": []
          }
        }
      ]
    },
    {
      "cell_type": "markdown",
      "metadata": {
        "id": "JWGGFdc2tmJs",
        "colab_type": "text"
      },
      "source": [
        "We imported a dataframe, turned it into a series and did the following: we realized that there exists a format in Python that structures date-time and it's called a timestamp, we plotted a series and saw that it shows how many kids are born every day during a year. We can describe this series with some basic statistical parameters. Take a look at the command `.describe()`."
      ]
    },
    {
      "cell_type": "code",
      "metadata": {
        "id": "ZUoVzzO4tEUu",
        "colab_type": "code",
        "colab": {}
      },
      "source": [
        "# Working with a variable type Series gives us an overview of some statistical data"
      ],
      "execution_count": 0,
      "outputs": []
    },
    {
      "cell_type": "code",
      "metadata": {
        "id": "texOhwnftGjS",
        "colab_type": "code",
        "outputId": "1031fd2f-67be-436f-bf13-07f3fc5192c8",
        "colab": {
          "base_uri": "https://localhost:8080/",
          "height": 173
        }
      },
      "source": [
        "series_births.describe()\n",
        "# gives elementary statistical data\n",
        "# number of elements in a series - count, mean\n",
        "# standard deviation - std, smallest and largest element in the series - min and max"
      ],
      "execution_count": 23,
      "outputs": [
        {
          "output_type": "execute_result",
          "data": {
            "text/plain": [
              "count    365.000000\n",
              "mean      41.980822\n",
              "std        7.348257\n",
              "min       23.000000\n",
              "25%       37.000000\n",
              "50%       42.000000\n",
              "75%       46.000000\n",
              "max       73.000000\n",
              "dtype: float64"
            ]
          },
          "metadata": {
            "tags": []
          },
          "execution_count": 23
        }
      ]
    },
    {
      "cell_type": "code",
      "metadata": {
        "id": "4T3WRo7ytJEU",
        "colab_type": "code",
        "colab": {}
      },
      "source": [
        "# Working with series and time indexing is very useful\n",
        "# We can see how many children were born only in July\n",
        "# Let's make a new series for the month of July\n",
        "july = series_births['1959-07']"
      ],
      "execution_count": 0,
      "outputs": []
    },
    {
      "cell_type": "code",
      "metadata": {
        "id": "fgIWJBg9tMFk",
        "colab_type": "code",
        "outputId": "ab981f30-eafa-45ad-8fa2-ec9c52ea6f38",
        "colab": {
          "base_uri": "https://localhost:8080/",
          "height": 331
        }
      },
      "source": [
        "july.plot()"
      ],
      "execution_count": 25,
      "outputs": [
        {
          "output_type": "execute_result",
          "data": {
            "text/plain": [
              "<matplotlib.axes._subplots.AxesSubplot at 0x7ff2ffb9da58>"
            ]
          },
          "metadata": {
            "tags": []
          },
          "execution_count": 25
        },
        {
          "output_type": "display_data",
          "data": {
            "image/png": "[encoded data removed]",
            "text/plain": [
              "<Figure size 432x288 with 1 Axes>"
            ]
          },
          "metadata": {
            "tags": []
          }
        }
      ]
    },
    {
      "cell_type": "code",
      "metadata": {
        "id": "1SrpDyOmtOG-",
        "colab_type": "code",
        "outputId": "d2c146b0-257d-444f-cdbe-cb61674cbff2",
        "colab": {
          "base_uri": "https://localhost:8080/",
          "height": 86
        }
      },
      "source": [
        "# We can search for days with highest birth numbers, as well as lowest\n",
        "print (\"Lowest number of births in a day was %.f \" % july.min() )\n",
        "print (\"And that happened on this day :\", july.idxmin())\n",
        "\n",
        "print (\"Highest number of births in a day was %.f \" % july.max() )\n",
        "print (\"And that happened on this day :\", july.idxmax())"
      ],
      "execution_count": 26,
      "outputs": [
        {
          "output_type": "stream",
          "text": [
            "Lowest number of births in a day was 26 \n",
            "And that happened on this day : 1959-07-12 00:00:00\n",
            "Highest number of births in a day was 57 \n",
            "And that happened on this day : 1959-07-07 00:00:00\n"
          ],
          "name": "stdout"
        }
      ]
    },
    {
      "cell_type": "markdown",
      "metadata": {
        "id": "1OI1DNhLtQQc",
        "colab_type": "text"
      },
      "source": [
        "In case we're interested in just looking into one month, for example July, we can create a new series - July. We can analyze it independently of the rest of the data. We can determine the smallest number of children born and what date it was.\n",
        "\n",
        "Working with series gives us an opportunity to create some advanced graphs: histograms and boxplots.\n",
        "\n",
        "Boxplot is a type of graphical display. In our example, it will give an average value for every month - green horizontal line. In the blue rectangle is 50% of all the values. Also, we can display outliers as independent points. Boxplots are very useful when we want to keep track of a trend and to check if we have a growth or not."
      ]
    },
    {
      "cell_type": "code",
      "metadata": {
        "id": "rt0EDQTxtYyO",
        "colab_type": "code",
        "outputId": "d27e53d3-63aa-4700-817b-5db22d09025c",
        "colab": {
          "base_uri": "https://localhost:8080/",
          "height": 282
        }
      },
      "source": [
        "# Usually it's useful to draw a histogram and to check how the values are distributed\n",
        "# The histogram takes the values of the number of born children along the x-axis\n",
        "# Along the y-axis, the histogram displays the frequency of that event occuring.\n",
        "\n",
        "# Notice that the number of days that had between 38 and 43 children born is 100 in the year of analysis\n",
        "series_births.hist()"
      ],
      "execution_count": 27,
      "outputs": [
        {
          "output_type": "execute_result",
          "data": {
            "text/plain": [
              "<matplotlib.axes._subplots.AxesSubplot at 0x7ff2ffac32b0>"
            ]
          },
          "metadata": {
            "tags": []
          },
          "execution_count": 27
        },
        {
          "output_type": "display_data",
          "data": {
            "image/png": "[encoded data removed]",
            "text/plain": [
              "<Figure size 432x288 with 1 Axes>"
            ]
          },
          "metadata": {
            "tags": []
          }
        }
      ]
    },
    {
      "cell_type": "code",
      "metadata": {
        "id": "6QSjpOENtZmU",
        "colab_type": "code",
        "outputId": "afff1406-78d9-4d63-a9ba-ff06ad02ccf1",
        "colab": {
          "base_uri": "https://localhost:8080/",
          "height": 282
        }
      },
      "source": [
        "# Another interesting example of graphic visualization is displayed using boxplot()\n",
        "# Just for practice, we will repeat the whole code process needed to acheive this\n",
        "\n",
        "from pandas import Series\n",
        "from pandas import DataFrame\n",
        "from pandas import concat\n",
        "from matplotlib import pyplot\n",
        "\n",
        "data_csv = pd.read_csv('daily-total-female-births-CA.csv')\n",
        "\n",
        "groups = series_births.groupby(pd.Grouper(freq='M'))\n",
        "\n",
        "months = DataFrame()\n",
        "months = concat([DataFrame(x[1].values) for x in groups], axis=1)\n",
        "\n",
        "months = DataFrame(months)\n",
        "months.columns = range(1,13)\n",
        "months.boxplot()"
      ],
      "execution_count": 37,
      "outputs": [
        {
          "output_type": "execute_result",
          "data": {
            "text/plain": [
              "<matplotlib.axes._subplots.AxesSubplot at 0x7ff2ff446668>"
            ]
          },
          "metadata": {
            "tags": []
          },
          "execution_count": 37
        },
        {
          "output_type": "display_data",
          "data": {
            "image/png": "[encoded data removed]",
            "text/plain": [
              "<Figure size 432x288 with 1 Axes>"
            ]
          },
          "metadata": {
            "tags": []
          }
        }
      ]
    },
    {
      "cell_type": "markdown",
      "metadata": {
        "id": "NEX8zC3ktd9U",
        "colab_type": "text"
      },
      "source": [
        "How are boxplots actually made? First, we made a variable groups. It contains groups of data by months - M (Month).\n",
        "\n",
        "Check on your end what happens when you run the next bit of code, just to make the structure of the group more clear:\n",
        "\n",
        "```python\n",
        "for x in groups:\n",
        "           print (x[1].values)\n",
        "           print (x[1].index)\n",
        "```\n",
        "\n",
        "The variable `month` represents a matrix of 12 columns whose values are the number of born children in those months. Therefore, the number of rows is 31. In case a month has less days, the fields are filled out with NaN (Not a Number) values. This part of the code will be explained later when we get into more details on how to analyze DataFrame variables."
      ]
    }
  ]
}