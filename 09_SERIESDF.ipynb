{
  "nbformat": 4,
  "nbformat_minor": 0,
  "metadata": {
    "colab": {
      "name": "09_SERIESDF.ipynb",
      "provenance": [],
      "collapsed_sections": [],
      "authorship_tag": "ABX9TyPImIaSuIYpinj4xrcSl4l0",
      "include_colab_link": true
    },
    "kernelspec": {
      "name": "python3",
      "display_name": "Python 3"
    }
  },
  "cells": [
    {
      "cell_type": "markdown",
      "metadata": {
        "id": "view-in-github",
        "colab_type": "text"
      },
      "source": [
        "<a href=\"https://colab.research.google.com/github/love-bees/dataHacker/blob/master/09_SERIESDF.ipynb\" target=\"_parent\"><img src=\"https://colab.research.google.com/assets/colab-badge.svg\" alt=\"Open In Colab\"/></a>"
      ]
    },
    {
      "cell_type": "markdown",
      "metadata": {
        "id": "pBWwuEDrLLb8",
        "colab_type": "text"
      },
      "source": [
        "# Series and DataFrames"
      ]
    },
    {
      "cell_type": "markdown",
      "metadata": {
        "id": "1CXo6ktnLkhl",
        "colab_type": "text"
      },
      "source": [
        "This post was written by Andjelka Subotic. Andjelka will show us how we can use some advanced characteristics for series and how we can work with Excel tables, which are treated as DataFrame objects.\n",
        "\n",
        "Let's see how we can create some more advanced series:"
      ]
    },
    {
      "cell_type": "code",
      "metadata": {
        "id": "FAC_-NtHMCy5",
        "colab_type": "code",
        "colab": {}
      },
      "source": [
        "# Importing of library for working with series\n",
        "from pandas import Series \n",
        "import numpy as np\n",
        "\n",
        "# Series can be created using:\n",
        "# lists\n",
        "\n",
        "s1 = Series([1,2,'abc',4,5])\n",
        "\n",
        "# numerical arrays\n",
        "array = np.array([1,2,3,4,5,9])\n",
        "s2 = Series(array)\n",
        "\n",
        "# dictionaries\n",
        "d = {1:'a','second piece of data':0.2,3:'three'}\n",
        "s3 = Series(d)\n",
        "\n",
        "s4 = Series([[1,'lisa',2],0.5,5], index=[0.1,'string',6])"
      ],
      "execution_count": 0,
      "outputs": []
    },
    {
      "cell_type": "code",
      "metadata": {
        "id": "SjPKKGCZMfkj",
        "colab_type": "code",
        "outputId": "800728f0-eae4-471a-c436-f085fc78508a",
        "colab": {
          "base_uri": "https://localhost:8080/",
          "height": 176
        }
      },
      "source": [
        "print((s1))\n",
        "print('Type of data for s1 is: ', type(s1))\n",
        "print('Type of data for 1st and 3rd element from s1 : ', type(s1[0]), ',',type(s1[2]))"
      ],
      "execution_count": 0,
      "outputs": [
        {
          "output_type": "stream",
          "text": [
            "0      1\n",
            "1      2\n",
            "2    abc\n",
            "3      4\n",
            "4      5\n",
            "dtype: object\n",
            "Type of data for s1 is:  <class 'pandas.core.series.Series'>\n",
            "Type of data for 1st and 3rd element from s1 :  <class 'int'> , <class 'str'>\n"
          ],
          "name": "stdout"
        }
      ]
    },
    {
      "cell_type": "code",
      "metadata": {
        "id": "UgPLJTgfMtRz",
        "colab_type": "code",
        "outputId": "b88a859f-f384-49ba-fa14-c1968999da6c",
        "colab": {
          "base_uri": "https://localhost:8080/",
          "height": 173
        }
      },
      "source": [
        "print((s2))\n",
        "print('Type of data for s2 is: ', type(s2))\n",
        "print('Type of data for an element from s2 is: ', type(s1[0]))"
      ],
      "execution_count": 0,
      "outputs": [
        {
          "output_type": "stream",
          "text": [
            "0    1\n",
            "1    2\n",
            "2    3\n",
            "3    4\n",
            "4    5\n",
            "5    9\n",
            "dtype: int64\n",
            "Type of data for s2 is:  <class 'pandas.core.series.Series'>\n",
            "Type of data for an element from s2 is:  <class 'int'>\n"
          ],
          "name": "stdout"
        }
      ]
    },
    {
      "cell_type": "code",
      "metadata": {
        "id": "FPdANoSUM3ci",
        "colab_type": "code",
        "outputId": "60255069-63bf-4443-d250-1a4094970456",
        "colab": {
          "base_uri": "https://localhost:8080/",
          "height": 139
        }
      },
      "source": [
        "print((s3))\n",
        "print('Type of data for s3 is: ', type(s3))\n",
        "print('Type of data for an element from s3 with index 1 : ',s3[1],'is', type(s3[1]))\n",
        "print('Type of data for an element from s3 with index 3 : ', s3[3], 'is', type(s3[3]))"
      ],
      "execution_count": 0,
      "outputs": [
        {
          "output_type": "stream",
          "text": [
            "1                           a\n",
            "second piece of data      0.2\n",
            "3                       three\n",
            "dtype: object\n",
            "Type of data for s3 is:  <class 'pandas.core.series.Series'>\n",
            "Type of data for an element from s3 with index 1 :  a is <class 'str'>\n",
            "Type of data for an element from s3 with index 3 :  three is <class 'str'>\n"
          ],
          "name": "stdout"
        }
      ]
    },
    {
      "cell_type": "code",
      "metadata": {
        "id": "ryVMFURaNKZK",
        "colab_type": "code",
        "outputId": "9673244a-f2e4-47b4-e39e-296f2a81cacb",
        "colab": {
          "base_uri": "https://localhost:8080/",
          "height": 86
        }
      },
      "source": [
        "print(s4)"
      ],
      "execution_count": 0,
      "outputs": [
        {
          "output_type": "stream",
          "text": [
            "0.1       [1, lisa, 2]\n",
            "string             0.5\n",
            "6                    5\n",
            "dtype: object\n"
          ],
          "name": "stdout"
        }
      ]
    },
    {
      "cell_type": "code",
      "metadata": {
        "id": "-POSpRhSNfEw",
        "colab_type": "code",
        "outputId": "244bb240-1145-48e0-9a6a-7004d4a93e1a",
        "colab": {
          "base_uri": "https://localhost:8080/",
          "height": 34
        }
      },
      "source": [
        "# How to get the values that are stored in the variable type Series?\n",
        "s3.values"
      ],
      "execution_count": 0,
      "outputs": [
        {
          "output_type": "execute_result",
          "data": {
            "text/plain": [
              "array(['a', 0.2, 'three'], dtype=object)"
            ]
          },
          "metadata": {
            "tags": []
          },
          "execution_count": 7
        }
      ]
    },
    {
      "cell_type": "code",
      "metadata": {
        "id": "95Nb8PugNphl",
        "colab_type": "code",
        "outputId": "015ef904-7686-4491-eaac-3f8a7f91b4c4",
        "colab": {
          "base_uri": "https://localhost:8080/",
          "height": 34
        }
      },
      "source": [
        "# Value of the first index\n",
        "s3.values[0]"
      ],
      "execution_count": 0,
      "outputs": [
        {
          "output_type": "execute_result",
          "data": {
            "text/plain": [
              "'a'"
            ]
          },
          "metadata": {
            "tags": []
          },
          "execution_count": 8
        }
      ]
    },
    {
      "cell_type": "code",
      "metadata": {
        "id": "dt7u4rCtOJuC",
        "colab_type": "code",
        "outputId": "066b30e8-1df6-4dcc-a602-5c3d834f491b",
        "colab": {
          "base_uri": "https://localhost:8080/",
          "height": 34
        }
      },
      "source": [
        "# Passing a new value to the first index\n",
        "s3.values[0]='aaa'\n",
        "s3.values[0]"
      ],
      "execution_count": 0,
      "outputs": [
        {
          "output_type": "execute_result",
          "data": {
            "text/plain": [
              "'aaa'"
            ]
          },
          "metadata": {
            "tags": []
          },
          "execution_count": 9
        }
      ]
    },
    {
      "cell_type": "code",
      "metadata": {
        "id": "cWoTifBdOOqj",
        "colab_type": "code",
        "outputId": "3b7f2ae8-cc13-40f8-f441-f1a2efb70ae3",
        "colab": {
          "base_uri": "https://localhost:8080/",
          "height": 34
        }
      },
      "source": [
        "# How to get indexes that are stored in the variable type Series?\n",
        "s1.index"
      ],
      "execution_count": 0,
      "outputs": [
        {
          "output_type": "execute_result",
          "data": {
            "text/plain": [
              "RangeIndex(start=0, stop=5, step=1)"
            ]
          },
          "metadata": {
            "tags": []
          },
          "execution_count": 10
        }
      ]
    },
    {
      "cell_type": "code",
      "metadata": {
        "id": "aB21DRVMOVfb",
        "colab_type": "code",
        "outputId": "a6d9ef5a-8b65-4fad-adfe-204ff0487687",
        "colab": {
          "base_uri": "https://localhost:8080/",
          "height": 34
        }
      },
      "source": [
        "s3.index"
      ],
      "execution_count": 0,
      "outputs": [
        {
          "output_type": "execute_result",
          "data": {
            "text/plain": [
              "Index([1, 'second piece of data', 3], dtype='object')"
            ]
          },
          "metadata": {
            "tags": []
          },
          "execution_count": 11
        }
      ]
    },
    {
      "cell_type": "code",
      "metadata": {
        "id": "VR9cOJNAOY2X",
        "colab_type": "code",
        "outputId": "938f77b5-6b4d-4f6f-91de-ea91a9cf23b3",
        "colab": {
          "base_uri": "https://localhost:8080/",
          "height": 364
        }
      },
      "source": [
        "# Kako pristupiti elementima podatka tipa Series ?\n",
        "# prvo ćemo odstampati s1 i s3 radi lakseg pracenja narednog koda\n",
        "\n",
        "# How to access elements of data type Series?\n",
        "# First we will print s1 and s3 so that we'll be able to follow the rest of the code\n",
        "print('s1: ')\n",
        "print(s1)\n",
        "print() # blank line\n",
        "print('s3: ')\n",
        "print(s3)\n",
        "# Acessing data elements type Series can be done in two ways\n",
        "# Using [] like with NumPy arrays\n",
        "print()\n",
        "print('First element of s3 - element with index 1 is: ',s3[1])\n",
        "print()\n",
        "# Using iloc[index of element that we want, when the indexes are numbers]\n",
        "print('Second element of s3 is : ',s3.iloc[1])\n",
        "#print(s3.iloc['second data':]) #- this command will give an error because iloc was made for number indexing\n",
        "\n",
        "# Using loc[name of index which we want to access]\n",
        "print()\n",
        "print('Element of s3 whose index is \"second piece of data\" is: ',s3.loc['second piece of data'])\n",
        "print('First element in s1: ', s1.loc[0]) # this command can be run without errors, \n",
        "# print(s3.loc[0]) while this command is wrong, because zero isn't the name of any index in s3"
      ],
      "execution_count": 0,
      "outputs": [
        {
          "output_type": "stream",
          "text": [
            "s1: \n",
            "0      1\n",
            "1      2\n",
            "2    abc\n",
            "3      4\n",
            "4      5\n",
            "dtype: object\n",
            "\n",
            "s3: \n",
            "1                         aaa\n",
            "second piece of data      0.2\n",
            "3                       three\n",
            "dtype: object\n",
            "\n",
            "First element of s3 - element with index 1 is:  aaa\n",
            "\n",
            "Second element of s3 is :  0.2\n",
            "\n",
            "Element of s3 whose index is \"second piece of data\" is:  0.2\n",
            "First element in s1:  1\n"
          ],
          "name": "stdout"
        }
      ]
    },
    {
      "cell_type": "code",
      "metadata": {
        "id": "x1mS_Y7cPgPr",
        "colab_type": "code",
        "outputId": "7b0a048a-efe0-4f2a-aaeb-c1052a13c0f3",
        "colab": {
          "base_uri": "https://localhost:8080/",
          "height": 295
        }
      },
      "source": [
        "# How do you split a part of the data type Series?\n",
        "# also called slicing Series\n",
        "# name_Series[index of first picked element: elemenet where the slicing is done ]\n",
        "# if the index before is left out, it will start from the first element by default. If the index after is left out, it will \n",
        "# take all the elements until the last index of the Series\n",
        "print(s1[0:2])\n",
        "print()\n",
        "print(s1.iloc[0:2])\n",
        "print()\n",
        "print(s3['second piece of data':])\n",
        "print()\n",
        "print(s3.loc['second piece of data':])\n",
        "print()\n",
        "# slicing a part of a Series can be done with iloc and loc as well"
      ],
      "execution_count": 0,
      "outputs": [
        {
          "output_type": "stream",
          "text": [
            "0    1\n",
            "1    2\n",
            "dtype: object\n",
            "\n",
            "0    1\n",
            "1    2\n",
            "dtype: object\n",
            "\n",
            "second piece of data      0.2\n",
            "3                       three\n",
            "dtype: object\n",
            "\n",
            "second piece of data      0.2\n",
            "3                       three\n",
            "dtype: object\n",
            "\n"
          ],
          "name": "stdout"
        }
      ]
    },
    {
      "cell_type": "markdown",
      "metadata": {
        "id": "gXODpK-tPvt-",
        "colab_type": "text"
      },
      "source": [
        "The next type of data which will be very important is DataFrame, which is also from the library `Pandas`. For now, we can think of them as Excel columns which can take up the type integer or string:"
      ]
    },
    {
      "cell_type": "code",
      "metadata": {
        "id": "1IEQx4BCPyC3",
        "colab_type": "code",
        "outputId": "f9157537-0979-4a70-acf9-19c150813bcb",
        "colab": {
          "base_uri": "https://localhost:8080/",
          "height": 121
        }
      },
      "source": [
        "# As mentioned before, it's a multidimensional array, although it can be one dimensional as well\n",
        "# We can access it in the following ways\n",
        "\n",
        "from pandas import DataFrame \n",
        "import numpy as np\n",
        "\n",
        "# using a n-dimensional NumPy array, or a matrix\n",
        "\n",
        "narray = np.random.randn(15).reshape(5,3) # generating 15 numbers that are normally distributed\n",
        "df1 = DataFrame(narray)                   # from them, we create a matrix with dimensions 5x3\n",
        "df1.columns = ['column 1', 'column 2', 'column 3'] # this is one way to name the columns\n",
        "print(df1)"
      ],
      "execution_count": 0,
      "outputs": [
        {
          "output_type": "stream",
          "text": [
            "   column 1  column 2  column 3\n",
            "0 -1.415669  0.404572  0.055051\n",
            "1  1.231076  0.066062 -0.471065\n",
            "2 -0.980905 -1.584342  0.018559\n",
            "3 -0.029084  1.808320  0.587309\n",
            "4 -0.463555 -0.541513 -1.335401\n"
          ],
          "name": "stdout"
        }
      ]
    },
    {
      "cell_type": "code",
      "metadata": {
        "id": "1kK3_YRZP0oO",
        "colab_type": "code",
        "outputId": "b48f10f0-5b9d-4944-ca70-762e54b6e1ad",
        "colab": {
          "base_uri": "https://localhost:8080/",
          "height": 143
        }
      },
      "source": [
        "# Also, we can take a peek at the first elements using the command .head()\n",
        "df1.head(3)"
      ],
      "execution_count": 0,
      "outputs": [
        {
          "output_type": "execute_result",
          "data": {
            "text/html": [
              "<div>\n",
              "<style scoped>\n",
              "    .dataframe tbody tr th:only-of-type {\n",
              "        vertical-align: middle;\n",
              "    }\n",
              "\n",
              "    .dataframe tbody tr th {\n",
              "        vertical-align: top;\n",
              "    }\n",
              "\n",
              "    .dataframe thead th {\n",
              "        text-align: right;\n",
              "    }\n",
              "</style>\n",
              "<table border=\"1\" class=\"dataframe\">\n",
              "  <thead>\n",
              "    <tr style=\"text-align: right;\">\n",
              "      <th></th>\n",
              "      <th>column 1</th>\n",
              "      <th>column 2</th>\n",
              "      <th>column 3</th>\n",
              "    </tr>\n",
              "  </thead>\n",
              "  <tbody>\n",
              "    <tr>\n",
              "      <th>0</th>\n",
              "      <td>-1.415669</td>\n",
              "      <td>0.404572</td>\n",
              "      <td>0.055051</td>\n",
              "    </tr>\n",
              "    <tr>\n",
              "      <th>1</th>\n",
              "      <td>1.231076</td>\n",
              "      <td>0.066062</td>\n",
              "      <td>-0.471065</td>\n",
              "    </tr>\n",
              "    <tr>\n",
              "      <th>2</th>\n",
              "      <td>-0.980905</td>\n",
              "      <td>-1.584342</td>\n",
              "      <td>0.018559</td>\n",
              "    </tr>\n",
              "  </tbody>\n",
              "</table>\n",
              "</div>"
            ],
            "text/plain": [
              "   column 1  column 2  column 3\n",
              "0 -1.415669  0.404572  0.055051\n",
              "1  1.231076  0.066062 -0.471065\n",
              "2 -0.980905 -1.584342  0.018559"
            ]
          },
          "metadata": {
            "tags": []
          },
          "execution_count": 17
        }
      ]
    },
    {
      "cell_type": "code",
      "metadata": {
        "id": "EOjZe81YP3H2",
        "colab_type": "code",
        "outputId": "f48dee57-6596-4556-ad3a-e3d7eddb3de1",
        "colab": {
          "base_uri": "https://localhost:8080/",
          "height": 104
        }
      },
      "source": [
        "# Now, using a Python dictionary we will make one DataFrame.\n",
        "# This DataFrame will represent a list of bought groceries\n",
        "# For every purchase we will mark down the name of the buyer, what he bought, the price per article\n",
        "# and the amount of articles bought\n",
        "purchase_1 = {'name':'Matthew',\n",
        "              'article': 'bread',\n",
        "              'price' : 3,\n",
        "              'amount': 1}\n",
        "\n",
        "purchase_2 = {'name':'Mark',\n",
        "              'article': 'milk',\n",
        "              'price' : 5,\n",
        "              'amount': 2}\n",
        "\n",
        "purchase_3 = {'name':'Luke',\n",
        "              'article': 'coffee',\n",
        "              'price' : 7,\n",
        "              'amount': 3}\n",
        "\n",
        "df2 = DataFrame([purchase_1, purchase_2, purchase_3], columns = ['name', 'article', 'price', 'amount'],\n",
        "                index = ['Bakery', 'Walmart', 'Walmart'])\n",
        "print()\n",
        "print(df2)"
      ],
      "execution_count": 0,
      "outputs": [
        {
          "output_type": "stream",
          "text": [
            "\n",
            "            name article  price  amount\n",
            "Bakery   Matthew   bread      3       1\n",
            "Walmart     Mark    milk      5       2\n",
            "Walmart     Luke  coffee      7       3\n"
          ],
          "name": "stdout"
        }
      ]
    },
    {
      "cell_type": "code",
      "metadata": {
        "id": "m6P-kzlFP5de",
        "colab_type": "code",
        "outputId": "6f8bcc28-df19-4a6b-bde6-beafeebc5295",
        "colab": {
          "base_uri": "https://localhost:8080/",
          "height": 34
        }
      },
      "source": [
        "# df2 is a very convenient example to display how to work with DataFrames\n",
        "# Let's first check the type of data that we used in df2\n",
        "print('Type of structure for df2 is: ', type(df2))"
      ],
      "execution_count": 0,
      "outputs": [
        {
          "output_type": "stream",
          "text": [
            "Type of structure for df2 is:  <class 'pandas.core.frame.DataFrame'>\n"
          ],
          "name": "stdout"
        }
      ]
    },
    {
      "cell_type": "code",
      "metadata": {
        "id": "L-HWCBtZP7M7",
        "colab_type": "code",
        "outputId": "b7af8ab1-aafc-4b52-9c3e-281eac7d98bd",
        "colab": {
          "base_uri": "https://localhost:8080/",
          "height": 34
        }
      },
      "source": [
        "# Indexes of DataFrames can be acessed like this: DataFrame_name.index\n",
        "indexes = df2.index\n",
        "print(indexes)"
      ],
      "execution_count": 0,
      "outputs": [
        {
          "output_type": "stream",
          "text": [
            "Index(['Bakery', 'Walmart', 'Walmart'], dtype='object')\n"
          ],
          "name": "stdout"
        }
      ]
    },
    {
      "cell_type": "code",
      "metadata": {
        "id": "a3K6pzJbP9gD",
        "colab_type": "code",
        "outputId": "88011965-f549-4894-8f61-275384964f34",
        "colab": {
          "base_uri": "https://localhost:8080/",
          "height": 104
        }
      },
      "source": [
        "# values in DataFrames are acessed like this: name_DataFrame.values\n",
        "\n",
        "print()\n",
        "values = df2.values \n",
        "print(values)\n",
        "print('Values are stored in ndarrays - ',type(values))"
      ],
      "execution_count": 0,
      "outputs": [
        {
          "output_type": "stream",
          "text": [
            "\n",
            "[['Matthew' 'bread' 3 1]\n",
            " ['Mark' 'milk' 5 2]\n",
            " ['Luke' 'coffee' 7 3]]\n",
            "Values are stored in ndarrays -  <class 'numpy.ndarray'>\n"
          ],
          "name": "stdout"
        }
      ]
    },
    {
      "cell_type": "code",
      "metadata": {
        "id": "xm5sOgbpP-_v",
        "colab_type": "code",
        "outputId": "a5d769a8-5419-435b-8cf5-b4f8c887a7d4",
        "colab": {
          "base_uri": "https://localhost:8080/",
          "height": 112
        }
      },
      "source": [
        "# How to access the data elements in DataFrames?\n",
        "# Getting a specific piece of data from a DataFrame can be done using iloc and loc\n",
        "# We can do this by calling name_DataFrame.loc['name of row']\n",
        "df2.loc['Walmart']\n",
        "# Two columns will be printed because in df2 there are two columns with the name Walmart"
      ],
      "execution_count": 0,
      "outputs": [
        {
          "output_type": "execute_result",
          "data": {
            "text/html": [
              "<div>\n",
              "<style scoped>\n",
              "    .dataframe tbody tr th:only-of-type {\n",
              "        vertical-align: middle;\n",
              "    }\n",
              "\n",
              "    .dataframe tbody tr th {\n",
              "        vertical-align: top;\n",
              "    }\n",
              "\n",
              "    .dataframe thead th {\n",
              "        text-align: right;\n",
              "    }\n",
              "</style>\n",
              "<table border=\"1\" class=\"dataframe\">\n",
              "  <thead>\n",
              "    <tr style=\"text-align: right;\">\n",
              "      <th></th>\n",
              "      <th>name</th>\n",
              "      <th>article</th>\n",
              "      <th>price</th>\n",
              "      <th>amount</th>\n",
              "    </tr>\n",
              "  </thead>\n",
              "  <tbody>\n",
              "    <tr>\n",
              "      <th>Walmart</th>\n",
              "      <td>Mark</td>\n",
              "      <td>milk</td>\n",
              "      <td>5</td>\n",
              "      <td>2</td>\n",
              "    </tr>\n",
              "    <tr>\n",
              "      <th>Walmart</th>\n",
              "      <td>Luke</td>\n",
              "      <td>coffee</td>\n",
              "      <td>7</td>\n",
              "      <td>3</td>\n",
              "    </tr>\n",
              "  </tbody>\n",
              "</table>\n",
              "</div>"
            ],
            "text/plain": [
              "         name article  price  amount\n",
              "Walmart  Mark    milk      5       2\n",
              "Walmart  Luke  coffee      7       3"
            ]
          },
          "metadata": {
            "tags": []
          },
          "execution_count": 36
        }
      ]
    },
    {
      "cell_type": "code",
      "metadata": {
        "id": "x7ztgnABQAcN",
        "colab_type": "code",
        "outputId": "06631b3f-a319-4981-9d2f-610379f7ddb6",
        "colab": {
          "base_uri": "https://localhost:8080/",
          "height": 104
        }
      },
      "source": [
        "# If we want to get the data from the DataFrame using indexing:\n",
        "df2.iloc[1]\n",
        "# We get the second row from df2"
      ],
      "execution_count": 0,
      "outputs": [
        {
          "output_type": "execute_result",
          "data": {
            "text/plain": [
              "name       Mark\n",
              "article    milk\n",
              "price         5\n",
              "amount        2\n",
              "Name: Walmart, dtype: object"
            ]
          },
          "metadata": {
            "tags": []
          },
          "execution_count": 37
        }
      ]
    },
    {
      "cell_type": "code",
      "metadata": {
        "id": "Zx3vqtu3QB-l",
        "colab_type": "code",
        "outputId": "1875dba2-c12d-41a5-d197-dea60a7f5f0f",
        "colab": {
          "base_uri": "https://localhost:8080/",
          "height": 86
        }
      },
      "source": [
        "# we get all the values from the first row of df1\n",
        "df1.iloc[0]"
      ],
      "execution_count": 0,
      "outputs": [
        {
          "output_type": "execute_result",
          "data": {
            "text/plain": [
              "column 1   -1.415669\n",
              "column 2    0.404572\n",
              "column 3    0.055051\n",
              "Name: 0, dtype: float64"
            ]
          },
          "metadata": {
            "tags": []
          },
          "execution_count": 38
        }
      ]
    },
    {
      "cell_type": "code",
      "metadata": {
        "id": "W74rs2s1QDc5",
        "colab_type": "code",
        "outputId": "f6f2f03f-661c-421e-ebf9-8c0de0d08db3",
        "colab": {
          "base_uri": "https://localhost:8080/",
          "height": 173
        }
      },
      "source": [
        "# notice that iloc accepts only indexes in the numerical value, while loc can accept indexes type 'str' and indexes\n",
        "# type 'int' if they're defined that way\n",
        "\n",
        "print(df2.iloc[2])\n",
        "\n",
        "print('\\n',df2.loc['Walmart']) # Will print all rows that are indexed as 'Walmart', and in df2 we have two that are like that"
      ],
      "execution_count": 0,
      "outputs": [
        {
          "output_type": "stream",
          "text": [
            "name         Luke\n",
            "article    coffee\n",
            "price           7\n",
            "amount          3\n",
            "Name: Walmart, dtype: object\n",
            "\n",
            "          name article  price  amount\n",
            "Walmart  Mark    milk      5       2\n",
            "Walmart  Luke  coffee      7       3\n"
          ],
          "name": "stdout"
        }
      ]
    },
    {
      "cell_type": "code",
      "metadata": {
        "id": "q7oJyBV4QF26",
        "colab_type": "code",
        "outputId": "96852fd1-f7f7-4cb2-86aa-7aff62bff3ca",
        "colab": {
          "base_uri": "https://localhost:8080/",
          "height": 112
        }
      },
      "source": [
        "# in case we want to see just the names of people who bought at Walmart:\n",
        "df2.loc['Walmart']['name']\n",
        "\n",
        "# although writing code in such a way where we have a lot of [], like in the previous example, isn't good practie and should be avoided\n",
        "# alternatively, we can write it out like this:\n",
        "df2.loc[['Walmart'],['name']]"
      ],
      "execution_count": 0,
      "outputs": [
        {
          "output_type": "execute_result",
          "data": {
            "text/html": [
              "<div>\n",
              "<style scoped>\n",
              "    .dataframe tbody tr th:only-of-type {\n",
              "        vertical-align: middle;\n",
              "    }\n",
              "\n",
              "    .dataframe tbody tr th {\n",
              "        vertical-align: top;\n",
              "    }\n",
              "\n",
              "    .dataframe thead th {\n",
              "        text-align: right;\n",
              "    }\n",
              "</style>\n",
              "<table border=\"1\" class=\"dataframe\">\n",
              "  <thead>\n",
              "    <tr style=\"text-align: right;\">\n",
              "      <th></th>\n",
              "      <th>name</th>\n",
              "    </tr>\n",
              "  </thead>\n",
              "  <tbody>\n",
              "    <tr>\n",
              "      <th>Walmart</th>\n",
              "      <td>Mark</td>\n",
              "    </tr>\n",
              "    <tr>\n",
              "      <th>Walmart</th>\n",
              "      <td>Luke</td>\n",
              "    </tr>\n",
              "  </tbody>\n",
              "</table>\n",
              "</div>"
            ],
            "text/plain": [
              "         name\n",
              "Walmart  Mark\n",
              "Walmart  Luke"
            ]
          },
          "metadata": {
            "tags": []
          },
          "execution_count": 40
        }
      ]
    },
    {
      "cell_type": "markdown",
      "metadata": {
        "id": "TsRmVsywQK5E",
        "colab_type": "text"
      },
      "source": [
        "Vratimo se sada još jednom na podatke tipa serija. Sledeći deo koda nam demonstrira kako efikasno možemo učitati datume, a pritom ćemo ponovićemo kako crtamo boxplot() i analizirati grupisanje po mesecima"
      ]
    },
    {
      "cell_type": "code",
      "metadata": {
        "id": "UvFQGBpRQQ1e",
        "colab_type": "code",
        "outputId": "9eed2d18-8244-428d-f81b-2891544f35e2",
        "colab": {
          "base_uri": "https://localhost:8080/",
          "height": 156
        }
      },
      "source": [
        "from pandas import read_csv\n",
        "\n",
        "# How to import a time series using read_csv?\n",
        "\n",
        "# in order to import a file into a Series, we need to tinker with the code in the following way:\n",
        "# index_col = 0 means that the indexes are in the first column, and that we don't want the to be generated automatically\n",
        "# squeeze = True means that the file will import into Series, not a DataFrame\n",
        "# parse_data = [0] lets the first colum of the file be read as dates\n",
        "    \n",
        "series = read_csv('daily-total-female-births-CA.csv', header = 0, index_col=0, parse_dates = [0], squeeze = True)\n",
        "print(series.head())\n",
        "print(type(series))\n",
        "\n"
      ],
      "execution_count": 0,
      "outputs": [
        {
          "output_type": "stream",
          "text": [
            "date\n",
            "1959-01-01    35\n",
            "1959-01-02    32\n",
            "1959-01-03    30\n",
            "1959-01-04    31\n",
            "1959-01-05    44\n",
            "Name: births, dtype: int64\n",
            "<class 'pandas.core.series.Series'>\n"
          ],
          "name": "stdout"
        }
      ]
    },
    {
      "cell_type": "code",
      "metadata": {
        "id": "5LHXCh8hQSta",
        "colab_type": "code",
        "outputId": "eb1cc75c-91f4-4cd5-d4d9-c71c65cbeb0a",
        "colab": {
          "base_uri": "https://localhost:8080/",
          "height": 34
        }
      },
      "source": [
        "# it's always good to double check if the dates are imported properly\n",
        "print(type(series.index[0]))\n",
        "# you should be getting Timestamp\n",
        "# in case you're getting a string, it means that the index needs to be converted into Timestamp"
      ],
      "execution_count": 0,
      "outputs": [
        {
          "output_type": "stream",
          "text": [
            "<class 'pandas._libs.tslibs.timestamps.Timestamp'>\n"
          ],
          "name": "stdout"
        }
      ]
    },
    {
      "cell_type": "code",
      "metadata": {
        "id": "8WWZXyMHQUPs",
        "colab_type": "code",
        "outputId": "10640e3e-cb66-47d5-a693-ff3100f4eb4f",
        "colab": {
          "base_uri": "https://localhost:8080/",
          "height": 225
        }
      },
      "source": [
        "# another interesting example of graphic visualization is the boxplot()\n",
        "# for consistency, we will repeat the whole code needed to acheive this\n",
        "from pandas import Series\n",
        "from pandas import DataFrame\n",
        "from pandas import Grouper\n",
        "from pandas import read_csv\n",
        "from pandas import concat\n",
        "from matplotlib import pyplot\n",
        "\n",
        "# the function groupby in this case will take the parameter 'M' for frequency\n",
        "# which means that we want to group our data by months\n",
        "\n",
        "series = read_csv('daily-total-female-births-CA.csv', header = 0, index_col = 0, parse_dates = [0], squeeze = True)\n",
        "groups = series.groupby(Grouper(freq='M'))\n",
        "groups.groups\n",
        "\n",
        "# Grouping is done in the following way:"
      ],
      "execution_count": 0,
      "outputs": [
        {
          "output_type": "execute_result",
          "data": {
            "text/plain": [
              "{Timestamp('1959-01-31 00:00:00', freq='M'): 31,\n",
              " Timestamp('1959-02-28 00:00:00', freq='M'): 59,\n",
              " Timestamp('1959-03-31 00:00:00', freq='M'): 90,\n",
              " Timestamp('1959-04-30 00:00:00', freq='M'): 120,\n",
              " Timestamp('1959-05-31 00:00:00', freq='M'): 151,\n",
              " Timestamp('1959-06-30 00:00:00', freq='M'): 181,\n",
              " Timestamp('1959-07-31 00:00:00', freq='M'): 212,\n",
              " Timestamp('1959-08-31 00:00:00', freq='M'): 243,\n",
              " Timestamp('1959-09-30 00:00:00', freq='M'): 273,\n",
              " Timestamp('1959-10-31 00:00:00', freq='M'): 304,\n",
              " Timestamp('1959-11-30 00:00:00', freq='M'): 334,\n",
              " Timestamp('1959-12-31 00:00:00', freq='M'): 365}"
            ]
          },
          "metadata": {
            "tags": []
          },
          "execution_count": 43
        }
      ]
    },
    {
      "cell_type": "code",
      "metadata": {
        "id": "ONUKsagmQWyx",
        "colab_type": "code",
        "outputId": "ca0241f6-17c8-4c40-bb56-6aaeaf91df37",
        "colab": {
          "base_uri": "https://localhost:8080/",
          "height": 1000
        }
      },
      "source": [
        "# every group in the variable groups has its:\n",
        "# name - that's the last date in the month\n",
        "# contents - number of born children in that month\n",
        "# so the variable groups has two elements groups[0] where the name of that group is stored and groups[1] where all the groups are located\n",
        "\n",
        "i=0\n",
        "for name, group in groups:\n",
        "    print('Name of group:',name)\n",
        "    print('Contents of group:\\n',group)\n",
        "    if i<4: \n",
        "        print('*** Next are the values from this group')\n",
        "        print(group.values)\n",
        "        print('***')\n",
        "    print('-------------------------------')\n",
        "    i=i+1\n",
        "    if i == 3: break # printing only up to month 4, then we break the loop\n"
      ],
      "execution_count": 0,
      "outputs": [
        {
          "output_type": "stream",
          "text": [
            "Name of group: 1959-01-31 00:00:00\n",
            "Contents of group:\n",
            " date\n",
            "1959-01-01    35\n",
            "1959-01-02    32\n",
            "1959-01-03    30\n",
            "1959-01-04    31\n",
            "1959-01-05    44\n",
            "1959-01-06    29\n",
            "1959-01-07    45\n",
            "1959-01-08    43\n",
            "1959-01-09    38\n",
            "1959-01-10    27\n",
            "1959-01-11    38\n",
            "1959-01-12    33\n",
            "1959-01-13    55\n",
            "1959-01-14    47\n",
            "1959-01-15    45\n",
            "1959-01-16    37\n",
            "1959-01-17    50\n",
            "1959-01-18    43\n",
            "1959-01-19    41\n",
            "1959-01-20    52\n",
            "1959-01-21    34\n",
            "1959-01-22    53\n",
            "1959-01-23    39\n",
            "1959-01-24    32\n",
            "1959-01-25    37\n",
            "1959-01-26    43\n",
            "1959-01-27    39\n",
            "1959-01-28    35\n",
            "1959-01-29    44\n",
            "1959-01-30    38\n",
            "1959-01-31    24\n",
            "Name: births, dtype: int64\n",
            "*** Next are the values from this group\n",
            "[35 32 30 31 44 29 45 43 38 27 38 33 55 47 45 37 50 43 41 52 34 53 39 32\n",
            " 37 43 39 35 44 38 24]\n",
            "***\n",
            "-------------------------------\n",
            "Name of group: 1959-02-28 00:00:00\n",
            "Contents of group:\n",
            " date\n",
            "1959-02-01    23\n",
            "1959-02-02    31\n",
            "1959-02-03    44\n",
            "1959-02-04    38\n",
            "1959-02-05    50\n",
            "1959-02-06    38\n",
            "1959-02-07    51\n",
            "1959-02-08    31\n",
            "1959-02-09    31\n",
            "1959-02-10    51\n",
            "1959-02-11    36\n",
            "1959-02-12    45\n",
            "1959-02-13    51\n",
            "1959-02-14    34\n",
            "1959-02-15    52\n",
            "1959-02-16    47\n",
            "1959-02-17    45\n",
            "1959-02-18    46\n",
            "1959-02-19    39\n",
            "1959-02-20    48\n",
            "1959-02-21    37\n",
            "1959-02-22    35\n",
            "1959-02-23    52\n",
            "1959-02-24    42\n",
            "1959-02-25    45\n",
            "1959-02-26    39\n",
            "1959-02-27    37\n",
            "1959-02-28    30\n",
            "Name: births, dtype: int64\n",
            "*** Next are the values from this group\n",
            "[23 31 44 38 50 38 51 31 31 51 36 45 51 34 52 47 45 46 39 48 37 35 52 42\n",
            " 45 39 37 30]\n",
            "***\n",
            "-------------------------------\n",
            "Name of group: 1959-03-31 00:00:00\n",
            "Contents of group:\n",
            " date\n",
            "1959-03-01    35\n",
            "1959-03-02    28\n",
            "1959-03-03    45\n",
            "1959-03-04    34\n",
            "1959-03-05    36\n",
            "1959-03-06    50\n",
            "1959-03-07    44\n",
            "1959-03-08    39\n",
            "1959-03-09    32\n",
            "1959-03-10    39\n",
            "1959-03-11    45\n",
            "1959-03-12    43\n",
            "1959-03-13    39\n",
            "1959-03-14    31\n",
            "1959-03-15    27\n",
            "1959-03-16    30\n",
            "1959-03-17    42\n",
            "1959-03-18    46\n",
            "1959-03-19    41\n",
            "1959-03-20    36\n",
            "1959-03-21    45\n",
            "1959-03-22    46\n",
            "1959-03-23    43\n",
            "1959-03-24    38\n",
            "1959-03-25    34\n",
            "1959-03-26    35\n",
            "1959-03-27    56\n",
            "1959-03-28    36\n",
            "1959-03-29    32\n",
            "1959-03-30    50\n",
            "1959-03-31    41\n",
            "Name: births, dtype: int64\n",
            "*** Next are the values from this group\n",
            "[35 28 45 34 36 50 44 39 32 39 45 43 39 31 27 30 42 46 41 36 45 46 43 38\n",
            " 34 35 56 36 32 50 41]\n",
            "***\n",
            "-------------------------------\n"
          ],
          "name": "stdout"
        }
      ]
    },
    {
      "cell_type": "code",
      "metadata": {
        "id": "YoD5IuVWQan0",
        "colab_type": "code",
        "outputId": "a006ee76-c840-4954-8b60-5de06f1a47d1",
        "colab": {
          "base_uri": "https://localhost:8080/",
          "height": 52
        }
      },
      "source": [
        "# before we continue with the code, it would be convenient to explain one more concept relating to logic - a way of programming in Python\n",
        "# list comprehension is a very quick and efficient way to make lists\n",
        "# let's look at the next example\n",
        "\n",
        "l1 = [1,2,3,4,5]\n",
        "l2 = [ element**2 for element in l1] \n",
        "print('l1: ', l1)\n",
        "print('l2: ', l2)\n"
      ],
      "execution_count": 0,
      "outputs": [
        {
          "output_type": "stream",
          "text": [
            "l1:  [1, 2, 3, 4, 5]\n",
            "l2:  [1, 4, 9, 16, 25]\n"
          ],
          "name": "stdout"
        }
      ]
    },
    {
      "cell_type": "code",
      "metadata": {
        "id": "t6WSNSojQdGJ",
        "colab_type": "code",
        "colab": {
          "base_uri": "https://localhost:8080/",
          "height": 873
        },
        "outputId": "dc736c00-cbdf-4633-a665-928358e24987"
      },
      "source": [
        "months = DataFrame() # months is a DataFrame which will have 31 rows and 12 columns\n",
        "\n",
        "months = concat([DataFrame(g[1].values) for g in groups], axis = 1)\n",
        "\n",
        "months.columns = [g[0] for g in groups] \n",
        "# it can seem logical to name the DataFrame months columns which each group has\n",
        "# g[0] contains the name of every group, and it's actually the last day in that month\n",
        "print(months)\n",
        "# notice that when a months has less than 31 days, then the values which are missing are fileld ith NaN\n",
        "\n",
        "months.boxplot()"
      ],
      "execution_count": 47,
      "outputs": [
        {
          "output_type": "stream",
          "text": [
            "    1959-01-31  1959-02-28  1959-03-31  ...  1959-10-31  1959-11-30  1959-12-31\n",
            "0           35        23.0          35  ...          49        48.0          45\n",
            "1           32        31.0          28  ...          54        49.0          32\n",
            "2           30        44.0          45  ...          56        43.0          46\n",
            "3           31        38.0          34  ...          47        42.0          41\n",
            "4           44        50.0          36  ...          44        59.0          34\n",
            "5           29        38.0          50  ...          43        45.0          33\n",
            "6           45        51.0          44  ...          42        52.0          36\n",
            "7           43        31.0          39  ...          45        46.0          49\n",
            "8           38        31.0          32  ...          50        42.0          43\n",
            "9           27        51.0          39  ...          48        40.0          43\n",
            "10          38        36.0          45  ...          43        40.0          34\n",
            "11          33        45.0          43  ...          40        45.0          39\n",
            "12          55        51.0          39  ...          59        35.0          35\n",
            "13          47        34.0          31  ...          41        35.0          52\n",
            "14          45        52.0          27  ...          42        40.0          47\n",
            "15          37        47.0          30  ...          51        39.0          52\n",
            "16          50        45.0          42  ...          49        33.0          39\n",
            "17          43        46.0          46  ...          45        42.0          40\n",
            "18          41        39.0          41  ...          43        47.0          42\n",
            "19          52        48.0          36  ...          42        51.0          42\n",
            "20          34        37.0          45  ...          38        44.0          53\n",
            "21          53        35.0          46  ...          47        40.0          39\n",
            "22          39        52.0          43  ...          38        57.0          40\n",
            "23          32        42.0          38  ...          36        49.0          38\n",
            "24          37        45.0          34  ...          42        45.0          44\n",
            "25          43        39.0          35  ...          35        49.0          34\n",
            "26          39        37.0          56  ...          28        51.0          37\n",
            "27          35        30.0          36  ...          44        46.0          52\n",
            "28          44         NaN          32  ...          36        44.0          48\n",
            "29          38         NaN          50  ...          45        52.0          55\n",
            "30          24         NaN          41  ...          46         NaN          50\n",
            "\n",
            "[31 rows x 12 columns]\n"
          ],
          "name": "stdout"
        },
        {
          "output_type": "execute_result",
          "data": {
            "text/plain": [
              "<matplotlib.axes._subplots.AxesSubplot at 0x7f1abf24b400>"
            ]
          },
          "metadata": {
            "tags": []
          },
          "execution_count": 47
        },
        {
          "output_type": "display_data",
          "data": {
            "image/png": "[encoded data removed]",
            "text/plain": [
              "<Figure size 432x288 with 1 Axes>"
            ]
          },
          "metadata": {
            "tags": []
          }
        }
      ]
    },
    {
      "cell_type": "code",
      "metadata": {
        "id": "qOCjTUzoT-ux",
        "colab_type": "code",
        "colab": {}
      },
      "source": [
        "# in the previous graph we can see that the names of the months aren't clear\n",
        "# let's do the following\n",
        "\n",
        "import numpy as np\n",
        "months.columns = np.arange(1,13)"
      ],
      "execution_count": 0,
      "outputs": []
    },
    {
      "cell_type": "code",
      "metadata": {
        "id": "ZMsBdzTTUI54",
        "colab_type": "code",
        "colab": {
          "base_uri": "https://localhost:8080/",
          "height": 282
        },
        "outputId": "757639a9-1435-413b-a5d5-f64e92cd3f99"
      },
      "source": [
        "# now the axis is set to numbers 1 - january, 2 - february etc.\n",
        "months.boxplot()"
      ],
      "execution_count": 50,
      "outputs": [
        {
          "output_type": "execute_result",
          "data": {
            "text/plain": [
              "<matplotlib.axes._subplots.AxesSubplot at 0x7f1abec63da0>"
            ]
          },
          "metadata": {
            "tags": []
          },
          "execution_count": 50
        },
        {
          "output_type": "display_data",
          "data": {
            "image/png": "[encoded data removed]",
            "text/plain": [
              "<Figure size 432x288 with 1 Axes>"
            ]
          },
          "metadata": {
            "tags": []
          }
        }
      ]
    },
    {
      "cell_type": "markdown",
      "metadata": {
        "id": "6QpjQsEPQe0_",
        "colab_type": "text"
      },
      "source": [
        "With this we have completed the elementary commands which will help us to import data as tables, display them graphically and further process. We're still working with \"tiny\" data in a big data era, but careful patience is the fastest way."
      ]
    }
  ]
}