{
  "nbformat": 4,
  "nbformat_minor": 0,
  "metadata": {
    "colab": {
      "name": "02_PY.ipynb",
      "provenance": [],
      "collapsed_sections": [],
      "authorship_tag": "ABX9TyMSoF6k8o9qobdBdgbhuMjj",
      "include_colab_link": true
    },
    "kernelspec": {
      "name": "python3",
      "display_name": "Python 3"
    }
  },
  "cells": [
    {
      "cell_type": "markdown",
      "metadata": {
        "id": "view-in-github",
        "colab_type": "text"
      },
      "source": [
        "<a href=\"https://colab.research.google.com/github/love-bees/dataHacker/blob/master/02_PY.ipynb\" target=\"_parent\"><img src=\"https://colab.research.google.com/assets/colab-badge.svg\" alt=\"Open In Colab\"/></a>"
      ]
    },
    {
      "cell_type": "markdown",
      "metadata": {
        "id": "4aMCUr4xU_Sn",
        "colab_type": "text"
      },
      "source": [
        "# Python as the best tool for a Data Scientist"
      ]
    },
    {
      "cell_type": "markdown",
      "metadata": {
        "id": "bzUdVFcjWZBN",
        "colab_type": "text"
      },
      "source": [
        "## Python vs R"
      ]
    },
    {
      "cell_type": "markdown",
      "metadata": {
        "id": "IS4t54M1Wfeh",
        "colab_type": "text"
      },
      "source": [
        "In Data Science, things change very quickly. In the year 2015 the popular website for learning [Data Science online](https://www.datacamp.com/) only offered courses in the programming language R. [Evaluations](https://trends.google.com/trends/explore?date=all&q=Python%20data%20science,R%20data%20science,Python%20Machine%20Learning,R%20Machine%20Learning) show that Python is way more dominant when it comes to Machine Learning, and its popularity in the field has only been growing over time. For a succesful Data Scientist, knowing both would be optimal.\n",
        "\n",
        "Since dataHacker follows the world trends, we will be using [Google Colab](https://colab.research.google.com) as a plaform for the creation of this blog from now on. We previously used [Anaconda](https://www.anaconda.com/distribution/), which is also acceptable."
      ]
    },
    {
      "cell_type": "markdown",
      "metadata": {
        "id": "R_tu54HQXP-z",
        "colab_type": "text"
      },
      "source": [
        "For machine learning in Python, the most used libraries are:\n",
        "\n",
        "*    [NumPy](http://www.numpy.org/) - Numerical Python. Highly optimized for working with numerical vectors/arrays and matrices which represent the basic structure for most modern algorithms.\n",
        "*    [SciPy](https://www.scipy.org/) - Scientific Python. Uses NumPy arrays and allows fast numerical executions of algorithms that are used in engineering and scientific problems.\n",
        "*    [Matplotlib](https://matplotlib.org/) - for drawing quality graphs and diagrams in Python.\n",
        "\n",
        "Now we're ready to run the first few lines of code. The commands are typed into \"Cells\" and you can run them by pressing Shift + Enter."
      ]
    },
    {
      "cell_type": "code",
      "metadata": {
        "id": "QzBF8gX-bD3i",
        "colab_type": "code",
        "colab": {}
      },
      "source": [
        "# importing a library and renaming it for more convenient usage\n",
        "\n",
        "import numpy as np "
      ],
      "execution_count": 0,
      "outputs": []
    },
    {
      "cell_type": "code",
      "metadata": {
        "id": "m9aS16O7bYkq",
        "colab_type": "code",
        "colab": {}
      },
      "source": [
        "# creating an array\n",
        "\n",
        "a = np.array([0,1,2,3,4,5])"
      ],
      "execution_count": 0,
      "outputs": []
    },
    {
      "cell_type": "code",
      "metadata": {
        "id": "550gZ8w2beuV",
        "colab_type": "code",
        "colab": {}
      },
      "source": [
        "a = a*3"
      ],
      "execution_count": 0,
      "outputs": []
    },
    {
      "cell_type": "markdown",
      "metadata": {
        "id": "-CxrjsWRbgb2",
        "colab_type": "text"
      },
      "source": [
        "## Vectorization"
      ]
    },
    {
      "cell_type": "markdown",
      "metadata": {
        "id": "K-4M_fVKbsXn",
        "colab_type": "text"
      },
      "source": [
        "Vectorization is an important concept when working with the NumPy library. It's possible to process arrays in a fast way without using loops. Often this code runs around 300 times faster than with a \"for\" loop. When we wouldn't use the concept of vectorization, we would need to make a for loop with 6 iterations in which we would multiply each individual element by 3."
      ]
    },
    {
      "cell_type": "code",
      "metadata": {
        "id": "crPEGyBIcKb8",
        "colab_type": "code",
        "colab": {
          "base_uri": "https://localhost:8080/",
          "height": 34
        },
        "outputId": "b65feeee-eaa5-4e6c-e303-f86835ed2300"
      },
      "source": [
        "# using a for loop\n",
        "\n",
        "for i in range(6):\n",
        "    a[i] = a[i]*3 \n",
        "print(a)"
      ],
      "execution_count": 5,
      "outputs": [
        {
          "output_type": "stream",
          "text": [
            "[ 0  9 18 27 36 45]\n"
          ],
          "name": "stdout"
        }
      ]
    },
    {
      "cell_type": "code",
      "metadata": {
        "id": "6EM8WCr8cMWZ",
        "colab_type": "code",
        "colab": {
          "base_uri": "https://localhost:8080/",
          "height": 34
        },
        "outputId": "fd95df9b-86ea-4b59-a612-e8382488356c"
      },
      "source": [
        "# checking the dimensions of the array\n",
        "a.ndim"
      ],
      "execution_count": 6,
      "outputs": [
        {
          "output_type": "execute_result",
          "data": {
            "text/plain": [
              "1"
            ]
          },
          "metadata": {
            "tags": []
          },
          "execution_count": 6
        }
      ]
    },
    {
      "cell_type": "code",
      "metadata": {
        "id": "J1rwNotwcRs7",
        "colab_type": "code",
        "colab": {
          "base_uri": "https://localhost:8080/",
          "height": 34
        },
        "outputId": "cddf0f5e-c171-4b42-d44e-1146b80f5810"
      },
      "source": [
        "# checking the shape of the array\n",
        "a.shape"
      ],
      "execution_count": 7,
      "outputs": [
        {
          "output_type": "execute_result",
          "data": {
            "text/plain": [
              "(6,)"
            ]
          },
          "metadata": {
            "tags": []
          },
          "execution_count": 7
        }
      ]
    },
    {
      "cell_type": "code",
      "metadata": {
        "id": "gHm8bekAcWrD",
        "colab_type": "code",
        "colab": {
          "base_uri": "https://localhost:8080/",
          "height": 52
        },
        "outputId": "f34f4c64-c862-4112-a993-aa322a2b704c"
      },
      "source": [
        "# changing the shape of the array, from 1D array (1x6), we can create a matrix, 2D array, with dimensions (2x3)\n",
        "a.reshape(2,3)"
      ],
      "execution_count": 8,
      "outputs": [
        {
          "output_type": "execute_result",
          "data": {
            "text/plain": [
              "array([[ 0,  9, 18],\n",
              "       [27, 36, 45]])"
            ]
          },
          "metadata": {
            "tags": []
          },
          "execution_count": 8
        }
      ]
    },
    {
      "cell_type": "code",
      "metadata": {
        "id": "KoAW8e4QckM6",
        "colab_type": "code",
        "colab": {}
      },
      "source": [
        "b = np.zeros((3,4))"
      ],
      "execution_count": 0,
      "outputs": []
    },
    {
      "cell_type": "code",
      "metadata": {
        "id": "TrpCf0igcnrt",
        "colab_type": "code",
        "colab": {
          "base_uri": "https://localhost:8080/",
          "height": 69
        },
        "outputId": "2ca458bd-d6e2-40a4-8b17-63a77e1f3790"
      },
      "source": [
        "b"
      ],
      "execution_count": 10,
      "outputs": [
        {
          "output_type": "execute_result",
          "data": {
            "text/plain": [
              "array([[0., 0., 0., 0.],\n",
              "       [0., 0., 0., 0.],\n",
              "       [0., 0., 0., 0.]])"
            ]
          },
          "metadata": {
            "tags": []
          },
          "execution_count": 10
        }
      ]
    },
    {
      "cell_type": "code",
      "metadata": {
        "id": "O5OxNzRicqK-",
        "colab_type": "code",
        "colab": {}
      },
      "source": [
        "x = np.array([[1., 2., 3.], [4., 5., 6.]])"
      ],
      "execution_count": 0,
      "outputs": []
    },
    {
      "cell_type": "code",
      "metadata": {
        "id": "BB9yKZn9cspx",
        "colab_type": "code",
        "colab": {
          "base_uri": "https://localhost:8080/",
          "height": 52
        },
        "outputId": "5b77f7d9-c70d-40d3-ae20-1f758062b235"
      },
      "source": [
        "print(x)"
      ],
      "execution_count": 12,
      "outputs": [
        {
          "output_type": "stream",
          "text": [
            "[[1. 2. 3.]\n",
            " [4. 5. 6.]]\n"
          ],
          "name": "stdout"
        }
      ]
    },
    {
      "cell_type": "code",
      "metadata": {
        "id": "hkgQ5kDWcvRZ",
        "colab_type": "code",
        "colab": {
          "base_uri": "https://localhost:8080/",
          "height": 52
        },
        "outputId": "409867ca-5e60-4a55-9da2-898567d72499"
      },
      "source": [
        "x*3"
      ],
      "execution_count": 13,
      "outputs": [
        {
          "output_type": "execute_result",
          "data": {
            "text/plain": [
              "array([[ 3.,  6.,  9.],\n",
              "       [12., 15., 18.]])"
            ]
          },
          "metadata": {
            "tags": []
          },
          "execution_count": 13
        }
      ]
    },
    {
      "cell_type": "markdown",
      "metadata": {
        "id": "dcN5sJlecxDo",
        "colab_type": "text"
      },
      "source": [
        "## Indexing arrays"
      ]
    },
    {
      "cell_type": "markdown",
      "metadata": {
        "id": "ridEfqrXc1cC",
        "colab_type": "text"
      },
      "source": [
        "Individual elements of NumPy arrays can be accessed using indexing. It's possible to access specific slices of arrays as well. This is called slicing. Let's see how the next cells run:"
      ]
    },
    {
      "cell_type": "code",
      "metadata": {
        "id": "WgiRF3XRdBzy",
        "colab_type": "code",
        "colab": {}
      },
      "source": [
        "N = 10\n",
        "x = np.arange(N)"
      ],
      "execution_count": 0,
      "outputs": []
    },
    {
      "cell_type": "code",
      "metadata": {
        "id": "NfiJ1xBTdDvv",
        "colab_type": "code",
        "colab": {
          "base_uri": "https://localhost:8080/",
          "height": 34
        },
        "outputId": "fabb4e7e-4548-45b2-9fd2-bd0e4bcdf51b"
      },
      "source": [
        "# checking the data type\n",
        "type(x)"
      ],
      "execution_count": 15,
      "outputs": [
        {
          "output_type": "execute_result",
          "data": {
            "text/plain": [
              "numpy.ndarray"
            ]
          },
          "metadata": {
            "tags": []
          },
          "execution_count": 15
        }
      ]
    },
    {
      "cell_type": "code",
      "metadata": {
        "id": "O2G4eVsGdZ8p",
        "colab_type": "code",
        "colab": {
          "base_uri": "https://localhost:8080/",
          "height": 34
        },
        "outputId": "5d97e10e-5a49-47c1-8070-b6c81ba94554"
      },
      "source": [
        "print(x)"
      ],
      "execution_count": 16,
      "outputs": [
        {
          "output_type": "stream",
          "text": [
            "[0 1 2 3 4 5 6 7 8 9]\n"
          ],
          "name": "stdout"
        }
      ]
    },
    {
      "cell_type": "code",
      "metadata": {
        "id": "3-s1vB5rdbsZ",
        "colab_type": "code",
        "colab": {
          "base_uri": "https://localhost:8080/",
          "height": 34
        },
        "outputId": "155e2e82-f2b8-4fb3-cf0d-3aa8a5950669"
      },
      "source": [
        "# Indexing starts from 0, up to N-1\n",
        "x[0]"
      ],
      "execution_count": 17,
      "outputs": [
        {
          "output_type": "execute_result",
          "data": {
            "text/plain": [
              "0"
            ]
          },
          "metadata": {
            "tags": []
          },
          "execution_count": 17
        }
      ]
    },
    {
      "cell_type": "code",
      "metadata": {
        "id": "VFiF2tHddgSm",
        "colab_type": "code",
        "colab": {
          "base_uri": "https://localhost:8080/",
          "height": 34
        },
        "outputId": "0cb2b62a-f376-429b-c132-9898f36f1dcb"
      },
      "source": [
        "print(x[1],x[5],x[-1])"
      ],
      "execution_count": 18,
      "outputs": [
        {
          "output_type": "stream",
          "text": [
            "1 5 9\n"
          ],
          "name": "stdout"
        }
      ]
    },
    {
      "cell_type": "code",
      "metadata": {
        "id": "bkrSiwW0dinV",
        "colab_type": "code",
        "colab": {
          "base_uri": "https://localhost:8080/",
          "height": 34
        },
        "outputId": "15f692b1-fb4b-4017-d9a1-26b9a8213b5f"
      },
      "source": [
        "print(x[2:5])"
      ],
      "execution_count": 19,
      "outputs": [
        {
          "output_type": "stream",
          "text": [
            "[2 3 4]\n"
          ],
          "name": "stdout"
        }
      ]
    },
    {
      "cell_type": "markdown",
      "metadata": {
        "id": "IKiF3XQAdkkq",
        "colab_type": "text"
      },
      "source": [
        "## Plotting"
      ]
    },
    {
      "cell_type": "markdown",
      "metadata": {
        "id": "F0oBYf-udrtU",
        "colab_type": "text"
      },
      "source": [
        "For the final part of the introduction to arrays, we can plot one very simple function. In order to do this, we will use the library matplotlib. In this example we will make a time axis, stored in the variable `t`. First, we will initialize it as a NumPy array from 0 to 999, where the element type is float. In case we divide each of these numbers by 1000, we will get a finely sampled axis from 0 to 1. For this time axis, we will create a cosine function. With the help of element-wise processing, each element of the array `t` will automatically be used for generating the values of the new function (array) `x`. "
      ]
    },
    {
      "cell_type": "code",
      "metadata": {
        "id": "FKy-WF8XeOMX",
        "colab_type": "code",
        "colab": {}
      },
      "source": [
        "# defining an interval from 0 to N-1\n",
        "x = np.arange(10)"
      ],
      "execution_count": 0,
      "outputs": []
    },
    {
      "cell_type": "code",
      "metadata": {
        "id": "yg9c39lPeTeA",
        "colab_type": "code",
        "colab": {
          "base_uri": "https://localhost:8080/",
          "height": 34
        },
        "outputId": "66ec2a2f-cada-40d4-a70b-1ff89728bdd6"
      },
      "source": [
        "print(x)"
      ],
      "execution_count": 21,
      "outputs": [
        {
          "output_type": "stream",
          "text": [
            "[0 1 2 3 4 5 6 7 8 9]\n"
          ],
          "name": "stdout"
        }
      ]
    },
    {
      "cell_type": "code",
      "metadata": {
        "id": "p9pjwlx8eUyy",
        "colab_type": "code",
        "colab": {
          "base_uri": "https://localhost:8080/",
          "height": 52
        },
        "outputId": "e7e9410d-ded1-409b-9bd7-53514e8962fb"
      },
      "source": [
        "# applying the square root to every element of the array separately\n",
        "np.sqrt(x)"
      ],
      "execution_count": 22,
      "outputs": [
        {
          "output_type": "execute_result",
          "data": {
            "text/plain": [
              "array([0.        , 1.        , 1.41421356, 1.73205081, 2.        ,\n",
              "       2.23606798, 2.44948974, 2.64575131, 2.82842712, 3.        ])"
            ]
          },
          "metadata": {
            "tags": []
          },
          "execution_count": 22
        }
      ]
    },
    {
      "cell_type": "code",
      "metadata": {
        "id": "iK8sDvw3ecK7",
        "colab_type": "code",
        "colab": {
          "base_uri": "https://localhost:8080/",
          "height": 34
        },
        "outputId": "b0fbb5d5-b552-4625-9743-dda99c7c6a7a"
      },
      "source": [
        "# notice that the value of the vector x hasn't changed\n",
        "print(x)"
      ],
      "execution_count": 24,
      "outputs": [
        {
          "output_type": "stream",
          "text": [
            "[0 1 2 3 4 5 6 7 8 9]\n"
          ],
          "name": "stdout"
        }
      ]
    },
    {
      "cell_type": "code",
      "metadata": {
        "id": "hCBZvo5lehoJ",
        "colab_type": "code",
        "colab": {
          "base_uri": "https://localhost:8080/",
          "height": 52
        },
        "outputId": "66e9fac6-ab52-4b59-e146-ac88c8526ce1"
      },
      "source": [
        "# for explicit change, we need to store the variable np.sqrt(x)\n",
        "\n",
        "x = np.sqrt(x)\n",
        "print(x)"
      ],
      "execution_count": 25,
      "outputs": [
        {
          "output_type": "stream",
          "text": [
            "[0.         1.         1.41421356 1.73205081 2.         2.23606798\n",
            " 2.44948974 2.64575131 2.82842712 3.        ]\n"
          ],
          "name": "stdout"
        }
      ]
    },
    {
      "cell_type": "code",
      "metadata": {
        "id": "dddrE1AHepJv",
        "colab_type": "code",
        "colab": {}
      },
      "source": [
        "# creating 1000 whole numbers and explicitly defining their type\n",
        "\n",
        "t = np.arange(1000, dtype=float)"
      ],
      "execution_count": 0,
      "outputs": []
    },
    {
      "cell_type": "code",
      "metadata": {
        "id": "S-xyAUS9evmH",
        "colab_type": "code",
        "colab": {}
      },
      "source": [
        "# creating the time axis of 1 second\n",
        "# samples in this case are equidistant by 1 milisecond\n",
        "\n",
        "t = t/1000.0"
      ],
      "execution_count": 0,
      "outputs": []
    },
    {
      "cell_type": "code",
      "metadata": {
        "id": "J0wbN8g6e8PC",
        "colab_type": "code",
        "colab": {}
      },
      "source": [
        "# defining the cosine function with a frequency of 3 Hz\n",
        "\n",
        "x = np.cos(2*np.pi*3*t )"
      ],
      "execution_count": 0,
      "outputs": []
    },
    {
      "cell_type": "code",
      "metadata": {
        "id": "dCuZZDb2fCnW",
        "colab_type": "code",
        "colab": {}
      },
      "source": [
        "# importing the library for working with plots\n",
        "\n",
        "import matplotlib.pyplot as plt"
      ],
      "execution_count": 0,
      "outputs": []
    },
    {
      "cell_type": "code",
      "metadata": {
        "id": "0uBXo4umfHqI",
        "colab_type": "code",
        "colab": {
          "base_uri": "https://localhost:8080/",
          "height": 295
        },
        "outputId": "aa188a22-373e-4ed5-8195-13f1cd11df75"
      },
      "source": [
        "# displaying the plot\n",
        "\n",
        "plt.plot(t,x)\n",
        "plt.title(\"Cosine function\")\n",
        "plt.xlabel(\"Time t [ms]\")\n",
        "plt.ylabel(\"Amplitude\");"
      ],
      "execution_count": 31,
      "outputs": [
        {
          "output_type": "display_data",
          "data": {
            "image/png": "[encoded data removed]",
            "text/plain": [
              "<Figure size 432x288 with 1 Axes>"
            ]
          },
          "metadata": {
            "tags": []
          }
        }
      ]
    }
  ]
}