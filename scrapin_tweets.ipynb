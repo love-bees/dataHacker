{
  "nbformat": 4,
  "nbformat_minor": 0,
  "metadata": {
    "colab": {
      "name": "scrapin_tweets",
      "provenance": [],
      "collapsed_sections": [],
      "authorship_tag": "ABX9TyPT+46hnotoR7ku1Dicq0dD",
      "include_colab_link": true
    },
    "kernelspec": {
      "name": "python3",
      "display_name": "Python 3"
    }
  },
  "cells": [
    {
      "cell_type": "markdown",
      "metadata": {
        "id": "view-in-github",
        "colab_type": "text"
      },
      "source": [
        "<a href=\"https://colab.research.google.com/github/love-bees/dataHacker/blob/master/scrapin_tweets.ipynb\" target=\"_parent\"><img src=\"https://colab.research.google.com/assets/colab-badge.svg\" alt=\"Open In Colab\"/></a>"
      ]
    },
    {
      "cell_type": "code",
      "metadata": {
        "id": "wcZp6-_0aAy1",
        "colab_type": "code",
        "colab": {}
      },
      "source": [
        "import tweepy\n",
        "import pandas as pd\n",
        "import csv\n",
        "import gmplot"
      ],
      "execution_count": 0,
      "outputs": []
    },
    {
      "cell_type": "code",
      "metadata": {
        "id": "kmA-9_f-aCgL",
        "colab_type": "code",
        "colab": {}
      },
      "source": [
        "consumer_key = 'get'\n",
        "consumer_secret = 'your'\n",
        "access_token = 'own'\n",
        "access_token_secret = 'tokens'"
      ],
      "execution_count": 0,
      "outputs": []
    },
    {
      "cell_type": "code",
      "metadata": {
        "id": "g6PCCVo9i_nO",
        "colab_type": "code",
        "colab": {}
      },
      "source": [
        "auth = tweepy.OAuthHandler(consumer_key, consumer_secret)"
      ],
      "execution_count": 0,
      "outputs": []
    },
    {
      "cell_type": "code",
      "metadata": {
        "id": "En3AyjjLM20P",
        "colab_type": "code",
        "colab": {}
      },
      "source": [
        "auth.set_access_token(access_token,access_token_secret)"
      ],
      "execution_count": 0,
      "outputs": []
    },
    {
      "cell_type": "code",
      "metadata": {
        "id": "cxVFLfmPM7yZ",
        "colab_type": "code",
        "colab": {}
      },
      "source": [
        "api = tweepy.API(auth, wait_on_rate_limit=True)"
      ],
      "execution_count": 0,
      "outputs": []
    },
    {
      "cell_type": "code",
      "metadata": {
        "id": "9aokcQdgNFSP",
        "colab_type": "code",
        "colab": {}
      },
      "source": [
        "csvFile = open('data_world_geo.csv', 'a')"
      ],
      "execution_count": 0,
      "outputs": []
    },
    {
      "cell_type": "code",
      "metadata": {
        "id": "fD2efjDWNKi4",
        "colab_type": "code",
        "colab": {}
      },
      "source": [
        "csvWriter = csv.writer(csvFile)"
      ],
      "execution_count": 0,
      "outputs": []
    },
    {
      "cell_type": "code",
      "metadata": {
        "id": "Wbt4LfWLNO2o",
        "colab_type": "code",
        "colab": {
          "base_uri": "https://localhost:8080/",
          "height": 985
        },
        "outputId": "9e91dd44-14d1-4017-e2da-1ba84f9d20cf"
      },
      "source": [
        "for tweet in tweepy.Cursor(api.search,q=['#corona', '#covid19'], count=100, \n",
        "                            since='2020-03-28').items():\n",
        "    if tweet.geo:\n",
        "        csvWriter.writerow([tweet.created_at, tweet.geo, tweet.text.encode('utf-8')])"
      ],
      "execution_count": 8,
      "outputs": [
        {
          "output_type": "stream",
          "text": [
            "ERROR:root:Internal Python error in the inspect module.\n",
            "Below is the traceback from this internal error.\n",
            "\n"
          ],
          "name": "stderr"
        },
        {
          "output_type": "stream",
          "text": [
            "Traceback (most recent call last):\n",
            "  File \"/usr/local/lib/python3.6/dist-packages/IPython/core/interactiveshell.py\", line 2882, in run_code\n",
            "    exec(code_obj, self.user_global_ns, self.user_ns)\n",
            "  File \"<ipython-input-8-f7bfe37270ae>\", line 2, in <module>\n",
            "    since='2020-03-28').items():\n",
            "  File \"/usr/local/lib/python3.6/dist-packages/tweepy/cursor.py\", line 49, in __next__\n",
            "    return self.next()\n",
            "  File \"/usr/local/lib/python3.6/dist-packages/tweepy/cursor.py\", line 197, in next\n",
            "    self.current_page = self.page_iterator.next()\n",
            "  File \"/usr/local/lib/python3.6/dist-packages/tweepy/cursor.py\", line 108, in next\n",
            "    data = self.method(max_id=self.max_id, parser=RawParser(), *self.args, **self.kargs)\n",
            "  File \"/usr/local/lib/python3.6/dist-packages/tweepy/binder.py\", line 250, in _call\n",
            "    return method.execute()\n",
            "  File \"/usr/local/lib/python3.6/dist-packages/tweepy/binder.py\", line 164, in execute\n",
            "    time.sleep(sleep_time + 5)  # sleep for few extra sec\n",
            "KeyboardInterrupt\n",
            "\n",
            "During handling of the above exception, another exception occurred:\n",
            "\n",
            "Traceback (most recent call last):\n",
            "  File \"/usr/local/lib/python3.6/dist-packages/IPython/core/interactiveshell.py\", line 1823, in showtraceback\n",
            "    stb = value._render_traceback_()\n",
            "AttributeError: 'KeyboardInterrupt' object has no attribute '_render_traceback_'\n",
            "\n",
            "During handling of the above exception, another exception occurred:\n",
            "\n",
            "Traceback (most recent call last):\n",
            "  File \"/usr/local/lib/python3.6/dist-packages/IPython/core/ultratb.py\", line 1132, in get_records\n",
            "    return _fixed_getinnerframes(etb, number_of_lines_of_context, tb_offset)\n",
            "  File \"/usr/local/lib/python3.6/dist-packages/IPython/core/ultratb.py\", line 313, in wrapped\n",
            "    return f(*args, **kwargs)\n",
            "  File \"/usr/local/lib/python3.6/dist-packages/IPython/core/ultratb.py\", line 358, in _fixed_getinnerframes\n",
            "    records = fix_frame_records_filenames(inspect.getinnerframes(etb, context))\n",
            "  File \"/usr/lib/python3.6/inspect.py\", line 1490, in getinnerframes\n",
            "    frameinfo = (tb.tb_frame,) + getframeinfo(tb, context)\n",
            "  File \"/usr/lib/python3.6/inspect.py\", line 1448, in getframeinfo\n",
            "    filename = getsourcefile(frame) or getfile(frame)\n",
            "  File \"/usr/lib/python3.6/inspect.py\", line 696, in getsourcefile\n",
            "    if getattr(getmodule(object, filename), '__loader__', None) is not None:\n",
            "  File \"/usr/lib/python3.6/inspect.py\", line 742, in getmodule\n",
            "    os.path.realpath(f)] = module.__name__\n",
            "  File \"/usr/lib/python3.6/posixpath.py\", line 395, in realpath\n",
            "    path, ok = _joinrealpath(filename[:0], filename, {})\n",
            "  File \"/usr/lib/python3.6/posixpath.py\", line 429, in _joinrealpath\n",
            "    if not islink(newpath):\n",
            "  File \"/usr/lib/python3.6/posixpath.py\", line 171, in islink\n",
            "    st = os.lstat(path)\n",
            "KeyboardInterrupt\n"
          ],
          "name": "stdout"
        },
        {
          "output_type": "error",
          "ename": "KeyboardInterrupt",
          "evalue": "ignored",
          "traceback": [
            "\u001b[0;31m---------------------------------------------------------------------------\u001b[0m"
          ]
        }
      ]
    },
    {
      "cell_type": "code",
      "metadata": {
        "id": "mMGd1AMuTsDP",
        "colab_type": "code",
        "colab": {}
      },
      "source": [
        "data = pd.read_csv('data_world_geo.csv')"
      ],
      "execution_count": 0,
      "outputs": []
    },
    {
      "cell_type": "code",
      "metadata": {
        "id": "0vS9FV6MgPzU",
        "colab_type": "code",
        "colab": {}
      },
      "source": [
        "data.columns\n",
        "data.columns=['time','loc','text']"
      ],
      "execution_count": 0,
      "outputs": []
    },
    {
      "cell_type": "code",
      "metadata": {
        "id": "dtJsrYQoT0xo",
        "colab_type": "code",
        "colab": {}
      },
      "source": [
        "data = data.dropna()"
      ],
      "execution_count": 0,
      "outputs": []
    },
    {
      "cell_type": "code",
      "metadata": {
        "id": "RBHmQchWl1bb",
        "colab_type": "code",
        "colab": {}
      },
      "source": [
        "coordinates = []\n",
        "for i, dat in enumerate(data['loc'].values):\n",
        "    data['loc'][i] = eval(dat)\n",
        "    coordinates.append(data['loc'][i]['coordinates'])"
      ],
      "execution_count": 0,
      "outputs": []
    },
    {
      "cell_type": "code",
      "metadata": {
        "id": "BZETMkAqkCST",
        "colab_type": "code",
        "colab": {}
      },
      "source": [
        "latitudes = []\n",
        "longitudes = []\n",
        "for pair in coordinates:\n",
        "    latitudes.append(pair[0])\n",
        "    longitudes.append(pair[1])"
      ],
      "execution_count": 0,
      "outputs": []
    },
    {
      "cell_type": "code",
      "metadata": {
        "id": "druU1SSepYkZ",
        "colab_type": "code",
        "colab": {}
      },
      "source": [
        "pip install gmplot"
      ],
      "execution_count": 0,
      "outputs": []
    },
    {
      "cell_type": "code",
      "metadata": {
        "id": "RgdsY9KUViWh",
        "colab_type": "code",
        "colab": {}
      },
      "source": [
        "gmap = gmplot.GoogleMapPlotter(34.0522, -118.2437, 1)\n",
        "\n",
        "gmap.heatmap(latitudes, longitudes)\n",
        "\n",
        "# Generate the heatmap into an HTML file\n",
        "gmap.draw(\"my_heatmap.html\")"
      ],
      "execution_count": 0,
      "outputs": []
    },
    {
      "cell_type": "code",
      "metadata": {
        "id": "Jt1-ibzRpe9G",
        "colab_type": "code",
        "colab": {}
      },
      "source": [
        "len(coordinates)"
      ],
      "execution_count": 0,
      "outputs": []
    },
    {
      "cell_type": "code",
      "metadata": {
        "id": "FbC0_ZptHOHR",
        "colab_type": "code",
        "colab": {}
      },
      "source": [
        "coordinates"
      ],
      "execution_count": 0,
      "outputs": []
    },
    {
      "cell_type": "code",
      "metadata": {
        "id": "We5XPuAZI3rx",
        "colab_type": "code",
        "colab": {}
      },
      "source": [
        ""
      ],
      "execution_count": 0,
      "outputs": []
    }
  ]
}